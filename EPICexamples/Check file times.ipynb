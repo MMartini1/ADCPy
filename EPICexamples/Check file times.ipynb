{
 "cells": [
  {
   "cell_type": "markdown",
   "metadata": {},
   "source": [
    "Check the beginning and ending file times in a series of shaped ADCP files, for QA/QC"
   ]
  },
  {
   "cell_type": "code",
   "execution_count": 13,
   "metadata": {},
   "outputs": [],
   "source": [
    "datapath = 'E:\\\\data\\\\Sandwich\\\\10811_V20784\\\\processed201809scaled\\\\'\n",
    "fileroot = '10811whVwave_'"
   ]
  },
  {
   "cell_type": "code",
   "execution_count": 14,
   "metadata": {},
   "outputs": [],
   "source": [
    "import os\n",
    "import glob\n",
    "import netCDF4 as nc\n",
    "from netCDF4 import num2date\n",
    "import sys\n",
    "# this is important in order to import my package which is not on the python path\n",
    "sys.path.append('c:\\projects\\python\\ADCPy')\n",
    "from EPICstuff.EPICmisc import EPICtime2datetime as ep2dt"
   ]
  },
  {
   "cell_type": "code",
   "execution_count": 15,
   "metadata": {},
   "outputs": [
    {
     "data": {
      "text/plain": [
       "['E:\\\\data\\\\Sandwich\\\\10811_V20784\\\\processed201809scaled\\\\10811whVwave_01.cdf',\n",
       " 'E:\\\\data\\\\Sandwich\\\\10811_V20784\\\\processed201809scaled\\\\10811whVwave_02.cdf',\n",
       " 'E:\\\\data\\\\Sandwich\\\\10811_V20784\\\\processed201809scaled\\\\10811whVwave_03.cdf',\n",
       " 'E:\\\\data\\\\Sandwich\\\\10811_V20784\\\\processed201809scaled\\\\10811whVwave_04.cdf',\n",
       " 'E:\\\\data\\\\Sandwich\\\\10811_V20784\\\\processed201809scaled\\\\10811whVwave_05.cdf',\n",
       " 'E:\\\\data\\\\Sandwich\\\\10811_V20784\\\\processed201809scaled\\\\10811whVwave_06.cdf']"
      ]
     },
     "execution_count": 15,
     "metadata": {},
     "output_type": "execute_result"
    }
   ],
   "source": [
    "files = glob.glob(datapath+fileroot+'*.cdf')\n",
    "files"
   ]
  },
  {
   "cell_type": "code",
   "execution_count": 16,
   "metadata": {},
   "outputs": [
    {
     "name": "stdout",
     "output_type": "stream",
     "text": [
      "10811whVwave_01.cdf \n",
      "\tCF time starts at 2016-12-15 23:59:22 and ends at 2017-01-11 15:59:22\n",
      "\t86362000 <class 'numpy.int32'>\n",
      "\tEPIC time starts at 2017-09-17 23:59:22 and ends at 2017-01-11 15:59:21.990000\n",
      "\t(2048, 641), seconds since 2016-12-15 23:59:22.000000 0:00\n",
      "10811whVwave_02.cdf \n",
      "\tCF time starts at 2017-01-11 16:59:22.500000 and ends at 2017-02-07 08:59:22\n",
      "\t61162499 <class 'numpy.int32'>\n",
      "\tEPIC time starts at 2017-01-11 16:59:22.490000 and ends at 2017-02-07 08:59:22\n",
      "\t(2048, 641), seconds since 2016-12-15 23:59:22.000000 0:00\n",
      "10811whVwave_03.cdf \n",
      "\tCF time starts at 2017-02-07 09:59:22 and ends at 2017-03-06 01:59:22.500000\n",
      "\t35961999 <class 'numpy.int32'>\n",
      "\tEPIC time starts at 2017-02-07 09:59:21.990000 and ends at 2017-12-06 01:59:22.490000\n",
      "\t(2048, 641), seconds since 2016-12-15 23:59:22.000000 0:00\n",
      "10811whVwave_04.cdf \n",
      "\tCF time starts at 2017-03-06 02:59:22 and ends at 2017-04-01 18:59:22\n",
      "\t10762000 <class 'numpy.int32'>\n",
      "\tEPIC time starts at 2017-12-06 02:59:22 and ends at 2018-01-01 18:59:21.990000\n",
      "\t(2048, 641), seconds since 2016-12-15 23:59:22.000000 0:00\n",
      "10811whVwave_05.cdf \n",
      "\tCF time starts at 2017-04-01 19:59:22.500000 and ends at 2017-04-28 11:59:22\n",
      "\t71962499 <class 'numpy.int32'>\n",
      "\tEPIC time starts at 2018-01-01 19:59:22.490000 and ends at 2018-01-28 11:59:22\n",
      "\t(2048, 641), seconds since 2016-12-15 23:59:22.000000 0:00\n",
      "10811whVwave_06.cdf \n",
      "\tCF time starts at 2017-04-28 12:59:22 and ends at 2017-05-25 04:59:23\n",
      "\t46761999 <class 'numpy.int32'>\n",
      "\tEPIC time starts at 2018-01-28 12:59:21.990000 and ends at 2018-02-25 04:59:23\n",
      "\t(2048, 641), seconds since 2016-12-15 23:59:22.000000 0:00\n"
     ]
    }
   ],
   "source": [
    "for file in files:\n",
    "    cdf = nc.Dataset(file, format='NETCDF4')\n",
    "    #ds = xr.open_dataset(file)\n",
    "    \n",
    "    fileparts = file.split('\\\\')\n",
    "    tunits = cdf['time'].units\n",
    "    print('{} \\n\\tCF time starts at {} and ends at {}'.format(fileparts[-1],\n",
    "        num2date(cdf['time'][0][0],cdf['time'].units),\n",
    "        num2date(cdf['time'][0][-1],cdf['time'].units)))\n",
    "    print('\\t{} {}'.format(cdf['EPIC_time2'][0][0],type(cdf['EPIC_time2'][0][0])))\n",
    "    g, EPICstart = ep2dt([cdf['EPIC_time'][0][0]],[cdf['EPIC_time2'][0][0]])\n",
    "    g, EPICend = ep2dt([cdf['EPIC_time'][0][-1]],[cdf['EPIC_time2'][0][-1]])\n",
    "    print('\\tEPIC time starts at {} and ends at {}'.format(EPICstart[0], EPICend[0]))\n",
    "    print('\\t{}, {}'.format(cdf['time'].shape,tunits))\n",
    "    \n",
    "    cdf.close()\n",
    "    \n",
    "    "
   ]
  }
 ],
 "metadata": {
  "kernelspec": {
   "display_name": "Python [conda env:IOOS3A]",
   "language": "python",
   "name": "conda-env-IOOS3A-py"
  },
  "language_info": {
   "codemirror_mode": {
    "name": "ipython",
    "version": 3
   },
   "file_extension": ".py",
   "mimetype": "text/x-python",
   "name": "python",
   "nbconvert_exporter": "python",
   "pygments_lexer": "ipython3",
   "version": "3.6.6"
  }
 },
 "nbformat": 4,
 "nbformat_minor": 2
}
