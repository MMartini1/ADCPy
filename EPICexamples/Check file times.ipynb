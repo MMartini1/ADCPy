{
 "cells": [
  {
   "cell_type": "markdown",
   "metadata": {},
   "source": [
    "Check the beginning and ending file times in a series of shaped ADCP files, for QA/QC"
   ]
  },
  {
   "cell_type": "code",
   "execution_count": 14,
   "metadata": {},
   "outputs": [],
   "source": [
    "#datapath = 'E:\\\\data\\\\Sandwich\\\\10811_V20784\\\\processed201809scaled\\\\'\n",
    "#fileroot = '10811whVwave_'+'*.cdf'\n",
    "fileroot = '10811whVwave_*p-cal.nc'"
   ]
  },
  {
   "cell_type": "code",
   "execution_count": 15,
   "metadata": {},
   "outputs": [],
   "source": [
    "import os\n",
    "import glob\n",
    "import netCDF4 as nc\n",
    "from netCDF4 import num2date\n",
    "import sys\n",
    "# this is important in order to import my package which is not on the python path\n",
    "sys.path.append('c:\\projects\\python\\ADCPy')\n",
    "from EPICstuff.EPICmisc import EPICtime2datetime as ep2dt"
   ]
  },
  {
   "cell_type": "code",
   "execution_count": 16,
   "metadata": {},
   "outputs": [
    {
     "data": {
      "text/plain": [
       "['E:\\\\data\\\\Sandwich\\\\10811_V20784\\\\processed201809scaled\\\\10811whVwave_01p-cal.nc',\n",
       " 'E:\\\\data\\\\Sandwich\\\\10811_V20784\\\\processed201809scaled\\\\10811whVwave_02p-cal.nc',\n",
       " 'E:\\\\data\\\\Sandwich\\\\10811_V20784\\\\processed201809scaled\\\\10811whVwave_03p-cal.nc',\n",
       " 'E:\\\\data\\\\Sandwich\\\\10811_V20784\\\\processed201809scaled\\\\10811whVwave_04p-cal.nc',\n",
       " 'E:\\\\data\\\\Sandwich\\\\10811_V20784\\\\processed201809scaled\\\\10811whVwave_05p-cal.nc',\n",
       " 'E:\\\\data\\\\Sandwich\\\\10811_V20784\\\\processed201809scaled\\\\10811whVwave_06p-cal.nc',\n",
       " 'E:\\\\data\\\\Sandwich\\\\10811_V20784\\\\processed201809scaled\\\\10811whVwave_p-cal.nc']"
      ]
     },
     "execution_count": 16,
     "metadata": {},
     "output_type": "execute_result"
    }
   ],
   "source": [
    "files = glob.glob(datapath+fileroot)\n",
    "files"
   ]
  },
  {
   "cell_type": "code",
   "execution_count": 27,
   "metadata": {},
   "outputs": [
    {
     "name": "stdout",
     "output_type": "stream",
     "text": [
      "10811whVwave_01p-cal.nc\n",
      "\tEPIC time starts at 2016-12-15 23:59:22 and ends at 2017-01-11 15:59:21.990000\n",
      "\t2457738 <class 'numpy.ma.core.MaskedArray'>\n",
      "10811whVwave_02p-cal.nc\n",
      "\tEPIC time starts at 2017-01-11 16:59:23 and ends at 2017-02-07 08:59:22\n",
      "\t2457765 <class 'numpy.ma.core.MaskedArray'>\n",
      "10811whVwave_03p-cal.nc\n",
      "\tEPIC time starts at 2017-02-07 09:59:21.990000 and ends at 2017-03-06 01:59:23\n",
      "\t2457792 <class 'numpy.ma.core.MaskedArray'>\n",
      "10811whVwave_04p-cal.nc\n",
      "\tEPIC time starts at 2017-03-06 02:59:22 and ends at 2017-04-01 18:59:21.990000\n",
      "\t2457819 <class 'numpy.ma.core.MaskedArray'>\n",
      "10811whVwave_05p-cal.nc\n",
      "\tEPIC time starts at 2017-04-01 19:59:23 and ends at 2017-04-28 11:59:22\n",
      "\t2457845 <class 'numpy.ma.core.MaskedArray'>\n",
      "10811whVwave_06p-cal.nc\n",
      "\tEPIC time starts at 2017-04-28 12:59:21.990000 and ends at 2017-05-25 04:59:23\n",
      "\t2457872 <class 'numpy.ma.core.MaskedArray'>\n",
      "10811whVwave_p-cal.nc\n",
      "\tEPIC time starts at 2016-12-15 23:59:22 and ends at 2017-05-25 04:59:23\n",
      "\t2457738 <class 'numpy.ma.core.MaskedArray'>\n"
     ]
    }
   ],
   "source": [
    "for file in files:\n",
    "    cdf = nc.Dataset(file, format='NETCDF4')\n",
    "    #ds = xr.open_dataset(file)\n",
    "    \n",
    "    fileparts = file.split('\\\\')\n",
    "    print(fileparts[-1])\n",
    "    \n",
    "    tunits = cdf['time'].units\n",
    "    if tunits != \"True Julian Day\":\n",
    "        # CF time is in time\n",
    "        CFtimeobj = cdf['time']\n",
    "        CFstart = num2date(CFtimeobj[0][0],CFtimeobj.units)\n",
    "        CFend = num2date(CFtimeobj[0][-1],CFtimeobj.units)\n",
    "        print('\\tCF time starts at {} and ends at {}'.format(CFstart, CFend))\n",
    "        print('\\t{}, {}'.format(CFtimeobj.shape,tunits))\n",
    "    \n",
    "    if tunits != \"True Julian Day\":\n",
    "        EPICtimeobj = cdf['EPIC_time']\n",
    "        EPICtime2obj = cdf['EPIC_time2']\n",
    "        g, EPICstart = ep2dt([EPICtimeobj[0][0]],[EPICtime2obj[0][0]])\n",
    "        g, EPICend = ep2dt([EPICtimeobj[0][-1]],[EPICtime2obj[0][-1]])\n",
    "        print('\\tEPIC time starts at {} and ends at {}'.format(EPICstart[0], EPICend[0]))\n",
    "        print('\\t{} {}'.format(EPICtimeobj[0][0],type(EPICtimeobj[0][0])))\n",
    "    else: \n",
    "        EPICtimeobj = cdf['time']\n",
    "        EPICtime2obj = cdf['time2']\n",
    "        if len(EPICtimeobj.shape) == 2:\n",
    "            g, EPICstart = ep2dt([EPICtimeobj[0][0]],[EPICtime2obj[0][0]])\n",
    "            g, EPICend = ep2dt([EPICtimeobj[0][-1]],[EPICtime2obj[0][-1]])\n",
    "            print('\\tEPIC time starts at {} and ends at {}'.format(EPICstart[0], EPICend[0]))\n",
    "            print('\\t{} {}'.format(EPICtimeobj[0][0],type(EPICtimeobj[0][0])))\n",
    "        else:\n",
    "            g, EPICstart = ep2dt([EPICtimeobj[0]],[EPICtime2obj[0]])\n",
    "            g, EPICend = ep2dt([EPICtimeobj[-1]],[EPICtime2obj[-1]])\n",
    "            print('\\tEPIC time starts at {} and ends at {}'.format(EPICstart[0], EPICend[0]))\n",
    "            print('\\t{} {}'.format(EPICtimeobj[0],type(EPICtimeobj[0])))\n",
    "\n",
    "\n",
    "    if tunits != \"True Julian Day\":\n",
    "        print('\\tdifferences: start {} end {}'.format(CFstart-EPICstart[0],CFend-EPICend[0]))\n",
    "        \n",
    "    cdf.close()\n",
    "    \n",
    "    "
   ]
  },
  {
   "cell_type": "code",
   "execution_count": null,
   "metadata": {},
   "outputs": [],
   "source": []
  }
 ],
 "metadata": {
  "kernelspec": {
   "display_name": "Python [conda env:IOOS3A]",
   "language": "python",
   "name": "conda-env-IOOS3A-py"
  },
  "language_info": {
   "codemirror_mode": {
    "name": "ipython",
    "version": 3
   },
   "file_extension": ".py",
   "mimetype": "text/x-python",
   "name": "python",
   "nbconvert_exporter": "python",
   "pygments_lexer": "ipython3",
   "version": "3.6.6"
  }
 },
 "nbformat": 4,
 "nbformat_minor": 2
}
