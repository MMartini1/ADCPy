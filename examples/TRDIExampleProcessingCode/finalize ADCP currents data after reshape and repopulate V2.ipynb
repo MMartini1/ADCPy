{
 "cells": [
  {
   "cell_type": "markdown",
   "metadata": {},
   "source": [
    "This notebook prepares a final, Best Basic Version raw wave burst profile data file.  This output is intended to be used to calculate wave statistics.\n",
    "\n",
    "Input is data that have been converted from raw binary pd0, reshaped into bursts and samples redistributed by time and time reduced to 1 dimension by reshapeEPIC.py and repopulateEPIC.py\n",
    "\n",
    "The workflow here produces data that work in ncBrowse, Panoply\n",
    "\n",
    "1. fix time\n",
    "2. average bursts\n",
    "3. trim to in water times\n",
    "4. update depth coordinate using mean water surface\n",
    "5. trim to depth using pressure following\n",
    "6. fix metadata\n",
    "7. change to EPIC time coordinates, write final EPIC compliant file\n"
   ]
  },
  {
   "cell_type": "code",
   "execution_count": 1,
   "metadata": {},
   "outputs": [],
   "source": [
    "datapath = 'E:\\\\data\\\\Sandwich\\\\10811_V20784\\\\python\\\\'\n",
    "# output from repopulate EPIC\n",
    "infileroot = '10811whVcurrents00repo.nc'\n",
    "finalfile = '10811whV-cal.nc'\n",
    "var = 'P_1' # a convenient variable to plot to check things\n",
    "delta_t = 900 # in seconds, what the inter-burst time interval should be\n",
    "\n",
    "# dates to trim to - this syntax is probably important\n",
    "deployed = \"2016-12-17 13:30\"\n",
    "recovered = \"2017-05-21 12:15\"\n",
    "\n",
    "# variables we do not need to keep\n",
    "# in this particular case, SDP_850 was always 0\n",
    "vars2drop = {'SDP_850'}\n",
    "\n",
    "# the nominal DELTA_T for this time series\n",
    "atts_to_update = {'DELTA_T': 900}\n",
    "\n",
    "# TODO\n",
    "# atts_to_remove = {}"
   ]
  },
  {
   "cell_type": "code",
   "execution_count": 2,
   "metadata": {},
   "outputs": [],
   "source": [
    "import os\n",
    "import sys\n",
    "import glob\n",
    "import datetime as dt\n",
    "import numpy as np\n",
    "import matplotlib.pyplot as plt\n",
    "%matplotlib inline\n",
    "import netCDF4 as nc\n",
    "from netCDF4 import num2date\n",
    "import xarray as xr\n",
    # "sys.path.append(\"c:\\\\projects\\\\python\\\\stglib\")\n",
    "import stglib"
   ]
  },
  {
   "cell_type": "markdown",
   "metadata": {},
   "source": [
    "Helper functions to restore fill values before writing - needed throughout this workflow"
   ]
  },
  {
   "cell_type": "code",
   "execution_count": 3,
   "metadata": {},
   "outputs": [],
   "source": [
    "def check_FillValue_encoding(ds):\n",
    "    # restore encoding to what it needs to be for EPIC and CF compliance\n",
    "    # input\n",
    "    # ds = xarray Dataset whose variables' encoding will be examined for the correct _FillValue\n",
    "    # output \n",
    "    # ds = Dataset with corrected encoding\n",
    "    # encoding_dict = encoding that can be used with to_netcdf\n",
    "    encoding_dict = {}\n",
    "    \n",
    "    for var in ds.variables.items():\n",
    "        encoding_dict[var[0]] = ds[var[0]].encoding\n",
    "        \n",
    "        # is it a coordinate?\n",
    "        if var[0] in ds.coords:\n",
    "            # coordinates do not have a _FillValue\n",
    "            if '_FillValue' in var[1].encoding:\n",
    "                encoding_dict[var[0]]['_FillValue'] = False\n",
    "        else:\n",
    "            # _FillValue cannot be NaN and must match the data type\n",
    "            # so just make sure it matches the data type.\n",
    "            # xarray changes ints to floats, not sure why yet\n",
    "            if ('_FillValue' in var[1].encoding):\n",
    "                if np.isnan(var[1].encoding['_FillValue']):\n",
    "                    print('NaN found in _FillValue, correcting')\n",
    "                    \n",
    "                if var[1].encoding['dtype'] in {'float32','float64'}:\n",
    "                    var[1].encoding['_FillValue'] = 1E35\n",
    "                    encoding_dict[var[0]]['_FillValue'] = 1E35\n",
    "                elif var[1].encoding['dtype'] in {'int32','int64'}:\n",
    "                    var[1].encoding['_FillValue'] = 32768\n",
    "                    encoding_dict[var[0]]['_FillValue'] = 32768\n",
    "            \n",
    "    return ds, encoding_dict"
   ]
  },
  {
   "cell_type": "markdown",
   "metadata": {},
   "source": [
    "# Check time and fix missing\n",
    "If there are missing times, fill them with an artificial time stamp and make all the data for them the appropriate fill value"
   ]
  },
  {
   "cell_type": "markdown",
   "metadata": {},
   "source": [
    "Chunking is important - this is likely a very large file"
   ]
  },
  {
   "cell_type": "code",
   "execution_count": 4,
   "metadata": {},
   "outputs": [],
   "source": [
    "ds = xr.open_dataset(datapath+infileroot,chunks={'time':24},drop_variables=vars2drop)"
   ]
  },
  {
   "cell_type": "code",
   "execution_count": 5,
   "metadata": {},
   "outputs": [
    {
     "data": {
      "text/plain": [
       "<xarray.DataArray 'time' (time: 15392)>\n",
       "array(['2016-12-15T00:00:00.000000000', '2016-12-15T00:15:00.000000000',\n",
       "       '2016-12-15T00:30:00.000000000', ...,                           'NaT',\n",
       "                                 'NaT',                           'NaT'],\n",
       "      dtype='datetime64[ns]')\n",
       "Coordinates:\n",
       "  * time     (time) datetime64[ns] 2016-12-15 2016-12-15T00:15:00 ... NaT NaT"
      ]
     },
     "execution_count": 5,
     "metadata": {},
     "output_type": "execute_result"
    }
   ],
   "source": [
    "# note the NaTs\n",
    "ds['time']"
   ]
  },
  {
   "cell_type": "markdown",
   "metadata": {},
   "source": [
    "#### First, look for missing time values"
   ]
  },
  {
   "cell_type": "code",
   "execution_count": 6,
   "metadata": {},
   "outputs": [
    {
     "name": "stdout",
     "output_type": "stream",
     "text": [
      "Time is from 2016-12-15T00:00:00.000000000 to NaT\n",
      "Time is from 2016-12-15T00:00:00.000000000 to NaT\n",
      "(array([ 1093,  1181,  1201,  1625,  2513,  2553,  2565,  2597,  3173,\n",
      "        3389,  3421,  3597,  3621,  3857,  3993,  4221,  4293,  4465,\n",
      "        4469,  4481,  4769,  5533,  6081,  6329,  6417,  6505,  6613,\n",
      "        6793,  6985,  7109,  7125,  7337,  7557,  7913,  8821,  9141,\n",
      "        9509,  9545,  9645,  9785,  9881,  9933, 10073, 10141, 10217,\n",
      "       10409, 10609, 10757, 10821, 10849, 10901, 10953, 10977, 11057,\n",
      "       11585, 11689, 11753, 11905, 12189, 12369, 12497, 15333, 15337,\n",
      "       15341, 15345, 15349, 15353, 15357, 15361, 15365, 15369, 15373,\n",
      "       15377, 15381, 15382, 15385, 15386, 15389, 15390, 15391],\n",
      "      dtype=int64),)\n",
      "80\n"
     ]
    },
    {
     "name": "stderr",
     "output_type": "stream",
     "text": [
      "C:\\Users\\mmartini\\AppData\\Local\\Continuum\\Miniconda3\\envs\\IOOS3A\\lib\\site-packages\\ipykernel\\__main__.py:3: FutureWarning: In the future, 'NAT == x' and 'x == NAT' will always be False.\n",
      "  app.launch_new_instance()\n"
     ]
    }
   ],
   "source": [
    "print('Time is from {} to {}'.format(ds['time'][0].data,ds['time'][-1].data))\n",
    "# identify where the bad times might be\n",
    "bads = np.asarray(list(map(lambda x: True if x == np.datetime64('NaT') else False, ds['time'][:].data)))\n",
    "#bads = np.asarray(list(map(lambda x: True if x == np.nan else False, ds['time'][:].data)))\n",
    "# get the index\n",
    "ibads = np.where(bads == True)\n",
    "# find the last good time - does it match the out of water time we know?\n",
    "print('Time is from {} to {}'.format(ds['time'][0].data,ds['time'][-1].data))\n",
    "print(ibads)\n",
    "print(len(ibads[0]))"
   ]
  },
  {
   "cell_type": "markdown",
   "metadata": {},
   "source": [
    "#### fix missing time values"
   ]
  },
  {
   "cell_type": "markdown",
   "metadata": {},
   "source": [
    "dropna is one way to do this, automated and convenient, and will leave an uneven time series, which is not what we want.  "
   ]
  },
  {
   "cell_type": "raw",
   "metadata": {},
   "source": [
    "ds2 = ds.dropna('time')"
   ]
  },
  {
   "cell_type": "markdown",
   "metadata": {},
   "source": [
    "Instead, we will change the NaT values in 'time' to a time value based on the last known good time, iterating so that we can cover larger gaps by constructing time as we go along.  This could be improved by using an index mapping method - when I know python better."
   ]
  },
  {
   "cell_type": "code",
   "execution_count": 7,
   "metadata": {},
   "outputs": [],
   "source": [
    "def fix_missing_time(ds, deltat):\n",
    "    # we do not want to use dropna if we want to end up with an even time series\n",
    "    # ds is the data set, already open and chunked\n",
    "    # deltat is the inter-burst time, sec, for the experiment's sampling scheme\n",
    "    # this is NOT the metadata DELTA_T\n",
    "    \n",
    "    # not sure what to do about this, which comes up when this function is run\n",
    "    # FutureWarning: In the future, 'NAT == x' and 'x == NAT' \n",
    "    # will always be False.\n",
    "    # https://stackoverflow.com/questions/38509538/numpy-checking-if-a-value-is-nat\n",
    "\n",
    "    dsnew = ds\n",
    "    count = 0\n",
    "    tbad = dsnew['time'][:].data # returns a numpy array of numpy.datetime64\n",
    "    tgood = tbad\n",
    "\n",
    "    # TODO - what if the first time is bad?  need to look forward, then work backward\n",
    "        \n",
    "    for t in enumerate(tbad):        \n",
    "        if t[1] == np.datetime64('NaT'):\n",
    "            count += 1\n",
    "            prev_time = tbad[t[0]-1]\n",
    "            new_time = prev_time+np.timedelta64(900,'s')\n",
    "            tgood[t[0]] = new_time\n",
    "            #print('bad time at {} will be given {}'.format(t[0],tgood[t[0]]))\n",
    "    \n",
    "    return dsnew, count\n",
    "    "
   ]
  },
  {
   "cell_type": "code",
   "execution_count": 8,
   "metadata": {},
   "outputs": [
    {
     "name": "stdout",
     "output_type": "stream",
     "text": [
      "80 time intervals were changed from NaT to a time stamp\n"
     ]
    },
    {
     "name": "stderr",
     "output_type": "stream",
     "text": [
      "C:\\Users\\mmartini\\AppData\\Local\\Continuum\\Miniconda3\\envs\\IOOS3A\\lib\\site-packages\\ipykernel\\__main__.py:20: FutureWarning: In the future, 'NAT == x' and 'x == NAT' will always be False.\n"
     ]
    }
   ],
   "source": [
    "dsnew, nfilled = fix_missing_time(ds,delta_t)\n",
    "print(\"{} time intervals were changed from NaT to a time stamp\".format(nfilled))"
   ]
  },
  {
   "cell_type": "code",
   "execution_count": 9,
   "metadata": {},
   "outputs": [
    {
     "name": "stdout",
     "output_type": "stream",
     "text": [
      "ds time is from 2016-12-15T00:00:00.000000000 to 2017-05-24T07:45:00.000000000\n",
      "dsnew time is from 2016-12-15T00:00:00.000000000 to 2017-05-24T07:45:00.000000000\n"
     ]
    }
   ],
   "source": [
    "print('ds time is from {} to {}'.format(ds['time'][0].data,ds['time'][-1].data))\n",
    "print('dsnew time is from {} to {}'.format(dsnew['time'][0].data,dsnew['time'][-1].data))"
   ]
  },
  {
   "cell_type": "markdown",
   "metadata": {},
   "source": [
    "#### Update metadata for this time adjustment"
   ]
  },
  {
   "cell_type": "code",
   "execution_count": 10,
   "metadata": {},
   "outputs": [],
   "source": [
    "dsnew = stglib.utils.add_start_stop_time(dsnew)\n",
    "dsnew = stglib.utils.insert_history(dsnew,'; time gaps filled')"
   ]
  },
  {
   "cell_type": "code",
   "execution_count": 11,
   "metadata": {},
   "outputs": [],
   "source": [
    "# always have to reset _FillValue from NaN back to CF compliant\n",
    "dsnew, nonan_encoding = check_FillValue_encoding(dsnew)"
   ]
  },
  {
   "cell_type": "code",
   "execution_count": 12,
   "metadata": {},
   "outputs": [
    {
     "name": "stdout",
     "output_type": "stream",
     "text": [
      "DELTA_T = mean(diff(time)) = 899\n",
      "DELTA_T ranges from 974 to 825\n"
     ]
    },
    {
     "data": {
      "image/png": "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\n",
      "text/plain": [
       "<Figure size 432x288 with 1 Axes>"
      ]
     },
     "metadata": {
      "needs_background": "light"
     },
     "output_type": "display_data"
    }
   ],
   "source": [
    "dt = dsnew.time.diff(dim='time') /1000000000 # result is in sec\n",
    "s = dt.mean().data\n",
    "dt.plot()\n",
    "dsnew.attrs['DELTA_T'] = int(s) # needs to be an integer\n",
    "print('DELTA_T = mean(diff(time)) = {}'.format(dsnew.attrs['DELTA_T']))\n",
    "print('DELTA_T ranges from {} to {}'.format(dt.max().data,dt.min().data))"
   ]
  },
  {
   "cell_type": "code",
   "execution_count": 13,
   "metadata": {},
   "outputs": [],
   "source": [
    "# make sure time's type is now EVEN or UNEVEN\n",
    "# dependent on variaton found in the burst time stamps, this may vary if there are gaps\n",
    "dsnew['time'].attrs['type'] = \"UNEVEN\""
   ]
  },
  {
   "cell_type": "code",
   "execution_count": 14,
   "metadata": {},
   "outputs": [
    {
     "name": "stdout",
     "output_type": "stream",
     "text": [
      "E:\\data\\Sandwich\\10811_V20784\\python\\10811whVcurrents00repo-fixt.nc\n"
     ]
    }
   ],
   "source": [
    "s = infileroot.split('.')  \n",
    "newfileroot = s[0]+'-fixt.'+s[1]\n",
    "dsnew.to_netcdf(datapath+newfileroot,encoding=nonan_encoding)\n",
    "\n",
    "ds.close()\n",
    "dsnew.close()\n",
    "\n",
    "print(datapath+newfileroot)"
   ]
  },
  {
   "cell_type": "markdown",
   "metadata": {},
   "source": [
    "# Average the bursts"
   ]
  },
  {
   "cell_type": "markdown",
   "metadata": {},
   "source": [
    "Chunking is important - this is likely a very large file"
   ]
  },
  {
   "cell_type": "code",
   "execution_count": 15,
   "metadata": {},
   "outputs": [
    {
     "name": "stdout",
     "output_type": "stream",
     "text": [
      "E:\\data\\Sandwich\\10811_V20784\\python\\10811whVcurrents00repo-fixt.nc\n"
     ]
    }
   ],
   "source": [
    "# since we are averaging each burst, we no longer need the variable 'burst', \n",
    "# the presence of 'burst' and 'sample' imply two-dimensional burst data\n",
    "ds = xr.open_dataset(datapath+newfileroot,chunks={'time':24},drop_variables={'burst'})\n",
    "print(datapath+newfileroot)"
   ]
  },
  {
   "cell_type": "code",
   "execution_count": 16,
   "metadata": {},
   "outputs": [],
   "source": [
    "# always have to reset _FillValue from NaN back to CF compliant\n",
    "# here we save the encoding from the original file to use later\n",
    "dsnew, nonan_encoding = check_FillValue_encoding(ds)"
   ]
  },
  {
   "cell_type": "code",
   "execution_count": 17,
   "metadata": {},
   "outputs": [],
   "source": [
    "# fix up the encoding for things specific to doing the mean.\n",
    "# remove sample\n",
    "# remove zlib, to which to_netcdf objected\n",
    "postmean_encoding = {}\n",
    "for item in nonan_encoding.items():\n",
    "    if item[0] in {'sample'}:\n",
    "        pass\n",
    "    else:\n",
    "        item[1].pop('zlib')\n",
    "        postmean_encoding[item[0]] = item[1]"
   ]
  },
  {
   "cell_type": "code",
   "execution_count": 18,
   "metadata": {},
   "outputs": [],
   "source": [
    "dsnew = ds.mean(dim='sample',keep_attrs=True) "
   ]
  },
  {
   "cell_type": "code",
   "execution_count": 19,
   "metadata": {},
   "outputs": [],
   "source": [
    "dsnew.attrs['history'] = ds.history + '; averaged over the sample dimension'"
   ]
  },
  {
   "cell_type": "code",
   "execution_count": 20,
   "metadata": {},
   "outputs": [
    {
     "name": "stderr",
     "output_type": "stream",
     "text": [
      "C:\\Users\\mmartini\\AppData\\Local\\Continuum\\Miniconda3\\envs\\IOOS3A\\lib\\site-packages\\dask\\array\\numpy_compat.py:28: RuntimeWarning: invalid value encountered in true_divide\n",
      "  x = np.divide(x1, x2, out)\n"
     ]
    }
   ],
   "source": [
    "s = newfileroot.split('.')  \n",
    "newfileroot = s[0]+'-avg.'+s[1]\n",
    "dsnew.to_netcdf(datapath+newfileroot,encoding=postmean_encoding)"
   ]
  },
  {
   "cell_type": "code",
   "execution_count": 21,
   "metadata": {},
   "outputs": [
    {
     "name": "stdout",
     "output_type": "stream",
     "text": [
      "E:\\data\\Sandwich\\10811_V20784\\python\\10811whVcurrents00repo-fixt-avg.nc\n"
     ]
    }
   ],
   "source": [
    "ds.close()\n",
    "dsnew.close()\n",
    "\n",
    "print(datapath+newfileroot)"
   ]
  },
  {
   "cell_type": "markdown",
   "metadata": {},
   "source": [
    "# Trim to in water time"
   ]
  },
  {
   "cell_type": "code",
   "execution_count": 22,
   "metadata": {},
   "outputs": [],
   "source": [
    "ds = xr.open_dataset(datapath+newfileroot,chunks={'time':24})"
   ]
  },
  {
   "cell_type": "code",
   "execution_count": 23,
   "metadata": {},
   "outputs": [
    {
     "data": {
      "text/plain": [
       "[<matplotlib.lines.Line2D at 0xb54ba20>]"
      ]
     },
     "execution_count": 23,
     "metadata": {},
     "output_type": "execute_result"
    },
    {
     "data": {
      "image/png": "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\n",
      "text/plain": [
       "<Figure size 432x288 with 1 Axes>"
      ]
     },
     "metadata": {
      "needs_background": "light"
     },
     "output_type": "display_data"
    }
   ],
   "source": [
    "ds[var].plot()"
   ]
  },
  {
   "cell_type": "code",
   "execution_count": 24,
   "metadata": {},
   "outputs": [],
   "source": [
    "# adapted from https://github.com/dnowacki-usgs/stglib\n",
    "def clip_ds(*args, **kwargs):\n",
    "    \"\"\"\n",
    "    Clip an xarray Dataset from metadata, either via good_ens or\n",
    "    Deployment_date and Recovery_date\n",
    "    \"\"\"\n",
    "    ds = args[0]\n",
    "    \n",
    "    print('first burst in full file:', ds['time'].min().values)\n",
    "    print('last burst in full file:', ds['time'].max().values)\n",
    "\n",
    "    # clip either by ensemble indices or by the deployment and recovery\n",
    "    # date specified in metadata\n",
    "    \n",
    "    # first look for clipping by index\n",
    "    if 'good_ens' in kwargs.keys():\n",
    "        # user is overriding or doing a separate process\n",
    "        good_indeces = [kwargs['good_ens']]\n",
    "        \n",
    "    elif 'good_ens' in ds.attrs:\n",
    "        # we have good ensemble indices in the metadata\n",
    "        # so we can deal with multiple good_ens ranges, or just a single range\n",
    "        if np.ndim(ds.attrs['good_ens']) == 1:\n",
    "            good_indeces = [ds.attrs['good_ens']]\n",
    "        else:\n",
    "            good_indeces = ds.attrs['good_ens']\n",
    "    else:\n",
    "        good_indeces = None\n",
    " \n",
    "    # otherwise look to clip by time\n",
    "    if 'good_dates' in kwargs.keys():\n",
    "        # user is overriding or doing a separate process\n",
    "        good_dates = kwargs['good_dates']\n",
    "    elif 'Deployment_date' in ds.attrs and 'Recovery_date' in ds.attrs:\n",
    "        good_dates = [ds.attrs['Deployment_date'], ds.attrs['Recovery_date']]\n",
    "    elif 'good_dates' in ds.attrs:\n",
    "        # clip by start/end dates that are not Deployment_date\n",
    "        # and Recovery_date\n",
    "        good_dates = ds.attrs['good_dates']        \n",
    "    else:\n",
    "        good_dates = None\n",
    "\n",
    "    # now clip\n",
    "    if good_indeces is not None:\n",
    "        print('Clipping data using good_ens')\n",
    "            \n",
    "        goods = []\n",
    "        for x in good_indeces:\n",
    "            if x[1] < 0:\n",
    "                # this is xarray, time will always be 1D\n",
    "                x[1] = len(ds['time'])\n",
    "            goods.append(np.arange(x[0], x[1]))\n",
    "        goods = np.hstack(goods)\n",
    "\n",
    "        ds = ds.isel(time=goods)\n",
    "\n",
    "        histtext = 'Data clipped using good_ens values of %s . ' % (\n",
    "            str(good_indeces))\n",
    "\n",
    "        ds = stglib.utils.insert_history(ds, histtext)\n",
    "        \n",
    "    elif good_dates is not None:\n",
    "        print('Clipping data using good_dates')\n",
    "        ds = ds.sel(time=slice(good_dates[0],\n",
    "                               good_dates[1]))\n",
    "        \n",
    "        histtext = 'Data clipped using good_dates of %s . ' % (\n",
    "            good_dates)\n",
    "\n",
    "        ds = stglib.utils.insert_history(ds, histtext)\n",
    "        \n",
    "    else:\n",
    "        # do nothing\n",
    "        print('Did not clip data; no values specified in metadata')\n",
    "\n",
    "    print('first burst in trimmed file:', ds['time'].min().values)\n",
    "    print('last burst in trimmed file:', ds['time'].max().values)\n",
    "\n",
    "    return ds"
   ]
  },
  {
   "cell_type": "code",
   "execution_count": 25,
   "metadata": {},
   "outputs": [],
   "source": [
    "# always have to reset _FillValue from NaN back to CF compliant\n",
    "dsnew, nonan_encoding = check_FillValue_encoding(ds)"
   ]
  },
  {
   "cell_type": "code",
   "execution_count": 26,
   "metadata": {},
   "outputs": [
    {
     "name": "stdout",
     "output_type": "stream",
     "text": [
      "first burst in full file: 2016-12-15T00:00:00.000000000\n",
      "last burst in full file: 2017-05-24T07:45:00.000000000\n",
      "Clipping data using good_dates\n",
      "first burst in trimmed file: 2016-12-17T13:30:00.000000000\n",
      "last burst in trimmed file: 2017-05-21T12:15:00.000000000\n"
     ]
    }
   ],
   "source": [
    "ds.attrs['Deployment_date'] = deployed\n",
    "ds.attrs['Recovery_date'] = recovered\n",
    "\n",
    "dsnew = clip_ds(dsnew)"
   ]
  },
  {
   "cell_type": "code",
   "execution_count": 27,
   "metadata": {},
   "outputs": [],
   "source": [
    "# update metadata\n",
    "dsnew = stglib.utils.add_start_stop_time(dsnew)"
   ]
  },
  {
   "cell_type": "code",
   "execution_count": 28,
   "metadata": {},
   "outputs": [
    {
     "data": {
      "text/plain": [
       "[<matplotlib.lines.Line2D at 0xb499a58>]"
      ]
     },
     "execution_count": 28,
     "metadata": {},
     "output_type": "execute_result"
    },
    {
     "data": {
      "image/png": "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\n",
      "text/plain": [
       "<Figure size 432x288 with 1 Axes>"
      ]
     },
     "metadata": {
      "needs_background": "light"
     },
     "output_type": "display_data"
    }
   ],
   "source": [
    "dsnew[var].plot()"
   ]
  },
  {
   "cell_type": "code",
   "execution_count": 29,
   "metadata": {},
   "outputs": [],
   "source": [
    "s = newfileroot.split('.')  \n",
    "newfileroot = s[0]+'-trmt.'+s[1]\n",
    "dsnew.to_netcdf(datapath+newfileroot,encoding=nonan_encoding)"
   ]
  },
  {
   "cell_type": "code",
   "execution_count": 30,
   "metadata": {},
   "outputs": [
    {
     "name": "stdout",
     "output_type": "stream",
     "text": [
      "E:\\data\\Sandwich\\10811_V20784\\python\\10811whVcurrents00repo-fixt-avg-trmt.nc\n"
     ]
    }
   ],
   "source": [
    "ds.close()\n",
    "dsnew.close()\n",
    "print(datapath+newfileroot)"
   ]
  },
  {
   "cell_type": "markdown",
   "metadata": {},
   "source": [
    "# update depth coordinate variable using water_depth"
   ]
  },
  {
   "cell_type": "markdown",
   "metadata": {},
   "source": [
    "This MUST be done with direct netCDF calls, xarray will not allow changes to coordinate variable data"
   ]
  },
  {
   "cell_type": "code",
   "execution_count": 31,
   "metadata": {},
   "outputs": [],
   "source": [
    "df = nc.Dataset(datapath+newfileroot,mode='r+')"
   ]
  },
  {
   "cell_type": "code",
   "execution_count": 32,
   "metadata": {},
   "outputs": [],
   "source": [
    "df.history = df.history+'; recompute depth information'"
   ]
  },
  {
   "cell_type": "code",
   "execution_count": 33,
   "metadata": {},
   "outputs": [
    {
     "name": "stdout",
     "output_type": "stream",
     "text": [
      "WATER_DEPTH : 8.7883021663918\n",
      "WATER_DEPTH_NOTE : water depth = MSL from pressure sensor, (meters), nominal\n",
      "WATER_DEPTH_source : water depth = MSL from pressure sensor, (meters), nominal\n"
     ]
    }
   ],
   "source": [
    "for attname in df.ncattrs():\n",
    "    if 'water' in attname.lower():\n",
    "        print('{} : {}'.format(attname,df.getncattr(attname)))"
   ]
  },
  {
   "cell_type": "code",
   "execution_count": 34,
   "metadata": {},
   "outputs": [
    {
     "name": "stdout",
     "output_type": "stream",
     "text": [
      "input depth from 5.25 to -10.049999237060547\n"
     ]
    }
   ],
   "source": [
    "d = df['depth'][:].data\n",
    "print('input depth from {} to {}'.format(d[0],d[-1]))"
   ]
  },
  {
   "cell_type": "code",
   "execution_count": 35,
   "metadata": {},
   "outputs": [],
   "source": [
    "def update_depth_variable(df):\n",
    "\n",
    "    \n",
    "    print('initial_instrument_height : {}'.format(df.initial_instrument_height))\n",
    "    print('orientation : {}'.format(df.orientation))        \n",
    "    print('WATER_DEPTH : {}'.format(df.WATER_DEPTH))\n",
    "    \n",
    "    d = df['depth'][:].data\n",
    "    print('depth is found to be from {} to {}'.format(d[0],d[-1]))\n",
    "    b = df['bindist'][:].data\n",
    "    print('bindist from {} to {}'.format(b[0],b[-1]))\n",
    "    \n",
    "    if 'UP' in df.orientation.upper():\n",
    "        depths = df.WATER_DEPTH-df.initial_instrument_height-b[:]        \n",
    "    else:\n",
    "        depths = -1 * (df.WATER_DEPTH-df.initial_instrument_height+b[:])     \n",
    "\n",
    "    print('depth is now from {} to {}'.format(depths[0],depths[-1]))\n",
    "    df['depth'][:] = depths[:]\n",
    "    #ds.assign_coords(depth=depths[:])\n",
    "\n",
    "    return df"
   ]
  },
  {
   "cell_type": "code",
   "execution_count": 36,
   "metadata": {},
   "outputs": [
    {
     "name": "stdout",
     "output_type": "stream",
     "text": [
      "initial_instrument_height : 0.91\n",
      "orientation : UP\n",
      "WATER_DEPTH : 8.7883021663918\n",
      "depth is found to be from 5.25 to -10.049999237060547\n",
      "bindist from 0.8399999737739563 to 16.139999389648438\n",
      "depth is now from 7.038301944732666 to -8.261697769165039\n"
     ]
    }
   ],
   "source": [
    "df = update_depth_variable(df)"
   ]
  },
  {
   "cell_type": "code",
   "execution_count": 37,
   "metadata": {},
   "outputs": [
    {
     "name": "stdout",
     "output_type": "stream",
     "text": [
      "depth from 7.038301944732666 to -8.261697769165039\n"
     ]
    }
   ],
   "source": [
    "d = df['depth'][:].data\n",
    "print('depth from {} to {}'.format(d[0],d[-1]))"
   ]
  },
  {
   "cell_type": "code",
   "execution_count": 38,
   "metadata": {},
   "outputs": [
    {
     "name": "stdout",
     "output_type": "stream",
     "text": [
      "E:\\data\\Sandwich\\10811_V20784\\python\\10811whVcurrents00repo-fixt-avg-trmt.nc\n"
     ]
    }
   ],
   "source": [
    "df.close()\n",
    "print(datapath+newfileroot)"
   ]
  },
  {
   "cell_type": "markdown",
   "metadata": {},
   "source": [
    "# Trim to surface"
   ]
  },
  {
   "cell_type": "code",
   "execution_count": 39,
   "metadata": {},
   "outputs": [],
   "source": [
    "# modified from https://github.com/dnowacki-usgs/stglib/aqd/qaqc.py trim_vel for Aquadopp\n",
    "# to work on any variable that contains the depth dimension\n",
    "def trim_bins(*args, **kwargs):\n",
    "    \"\"\"\n",
    "    Trim profile data to water level determined by pressure\n",
    "    ds = trim_bins(ds, pressure_name='P_1')\n",
    "    \n",
    "    pressure_name = name of the pressure variable to use\n",
    "    pad = extra depth to add to extend or reduce the trim, for instance to account for sidelobes\n",
    "    \n",
    "    Note that returned data set will have NaNs as the fill, for EPIC and CF compliance,\n",
    "    make sure the encoding _FillValue is not NaN before using to_netcdf\n",
    "    \n",
    "    \"\"\"\n",
    "    ds = args[0]\n",
    "\n",
    "    if 'pressure_name' in kwargs.keys():\n",
    "        # user is overriding or doing a separate process\n",
    "        pvarname = kwargs['pressure_name']\n",
    "    else:\n",
    "        pvarname = None\n",
    "    if 'pad' in kwargs.keys():\n",
    "        # user is overriding or doing a separate process\n",
    "        pad = kwargs['pad']\n",
    "    else:\n",
    "        pad = None\n",
    "\n",
    "\n",
    "    if (pvarname is not None) and (pvarname in ds):\n",
    "        # generate a list of the variables with depth coordinate\n",
    "        vars2trim = list(map(lambda t: t[0] if 'depth' in ds[t[0]].coords else None, ds.variables.items()))\n",
    "        vars2trim = list(filter(lambda v: v != None , vars2trim))\n",
    "        vars2trim = list(filter(lambda v: v not in {'depth','bindist'} , vars2trim))\n",
    "        print('trimming {}'.format(vars2trim))\n",
    "        print('using pressure from variable named {}, mean = {}'.format(\n",
    "            pvarname, ds[pvarname].mean().values))\n",
    "    \n",
    "        # try to get the instrument height, which we need to get water level\n",
    "        if 'initial_instrument_height' in ds.attrs:\n",
    "            inst_height = ds.attrs['initial_instrument_height']\n",
    "        elif 'transducer_offset_from_bottom' in ds.attrs:\n",
    "            inst_height = ds.attrs['transducer_offset_from_bottom']\n",
    "        else:\n",
    "            inst_height = 0\n",
    "        \n",
    "        print('using instrument height of {}'.format(inst_height))\n",
    "\n",
    "        if pad != None:\n",
    "            print('a pad of {} was provided'.format(pad))\n",
    "        else:\n",
    "            pad = 0.0\n",
    "\n",
    "        WL = ds[pvarname][:] + inst_height + pad\n",
    "        \n",
    "        print(WL.mean().values)\n",
    "        print(ds[pvarname].mean().values)\n",
    "        print(ds['bindist'].mean().values)\n",
    "\n",
    "        for var in vars2trim:\n",
    "            print('\\tTrimming {}'.format(var))\n",
    "            ds[var] = ds[var].where(ds['bindist'] < WL)\n",
    "\n",
    "        # find first bin that is all bad values\n",
    "        # Dan Nowacki comments: there might be a better way to do this using xarray and named\n",
    "        # dimensions, but this works for now\n",
    "        lastbin = np.argmin(np.all(np.isnan(ds[vars2trim[0]].values), axis=0) == False)\n",
    "\n",
    "        # this trims so there are no all-nan rows in the data\n",
    "        ds = ds.isel(depth=slice(0, lastbin))\n",
    "\n",
    "        histtext = 'Data clipped using {}'.format(pvarname)\n",
    "\n",
    "        ds = stglib.utils.insert_history(ds, histtext)\n",
    "\n",
    "    else:\n",
    "        print('Did not trim data')\n",
    "    \n",
    "    return ds"
   ]
  },
  {
   "cell_type": "code",
   "execution_count": 40,
   "metadata": {},
   "outputs": [
    {
     "name": "stdout",
     "output_type": "stream",
     "text": [
      "E:\\data\\Sandwich\\10811_V20784\\python\\10811whVcurrents00repo-fixt-avg-trmt.nc\n"
     ]
    }
   ],
   "source": [
    "ds = xr.open_dataset(datapath+newfileroot,chunks={'time':24})\n",
    "print(datapath+newfileroot)"
   ]
  },
  {
   "cell_type": "code",
   "execution_count": 41,
   "metadata": {},
   "outputs": [
    {
     "data": {
      "text/plain": [
       "<matplotlib.collections.QuadMesh at 0xd60acc0>"
      ]
     },
     "execution_count": 41,
     "metadata": {},
     "output_type": "execute_result"
    },
    {
     "data": {
      "image/png": "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\n",
      "text/plain": [
       "<Figure size 432x288 with 2 Axes>"
      ]
     },
     "metadata": {
      "needs_background": "light"
     },
     "output_type": "display_data"
    }
   ],
   "source": [
    "ds['AGC_1202'].plot()"
   ]
  },
  {
   "cell_type": "markdown",
   "metadata": {},
   "source": [
    "Here we create a working copy of the Dataset and back up the encoding from the original data prior to the trim operation. Some of the encoding seemed to get lost. check_FillValue_encoding announces when it finds NaNs"
   ]
  },
  {
   "cell_type": "code",
   "execution_count": 42,
   "metadata": {},
   "outputs": [],
   "source": [
    "dsnew, nonan_encoding = check_FillValue_encoding(ds)"
   ]
  },
  {
   "cell_type": "code",
   "execution_count": 43,
   "metadata": {},
   "outputs": [
    {
     "name": "stdout",
     "output_type": "stream",
     "text": [
      "trimming ['cor', 'AGC_1202', 'corvert', 'AGCvert', 'u_1205', 'v_1206', 'w_1204', 'Werr_1201', 'Wvert']\n",
      "using pressure from variable named P_1, mean = 7.876842498779297\n",
      "using instrument height of 0.91\n",
      "8.786842\n",
      "7.8768425\n",
      "8.49\n",
      "\tTrimming cor\n",
      "\tTrimming AGC_1202\n",
      "\tTrimming corvert\n",
      "\tTrimming AGCvert\n",
      "\tTrimming u_1205\n",
      "\tTrimming v_1206\n",
      "\tTrimming w_1204\n",
      "\tTrimming Werr_1201\n",
      "\tTrimming Wvert\n"
     ]
    },
    {
     "name": "stderr",
     "output_type": "stream",
     "text": [
      "C:\\Users\\mmartini\\AppData\\Local\\Continuum\\Miniconda3\\envs\\IOOS3A\\lib\\site-packages\\dask\\local.py:253: RuntimeWarning: invalid value encountered in less\n",
      "  return func(*args2)\n"
     ]
    }
   ],
   "source": [
    "dsnew = trim_bins(dsnew,pressure_name='P_1')"
   ]
  },
  {
   "cell_type": "code",
   "execution_count": 44,
   "metadata": {},
   "outputs": [
    {
     "name": "stderr",
     "output_type": "stream",
     "text": [
      "C:\\Users\\mmartini\\AppData\\Local\\Continuum\\Miniconda3\\envs\\IOOS3A\\lib\\site-packages\\dask\\local.py:253: RuntimeWarning: invalid value encountered in less\n",
      "  return func(*args2)\n"
     ]
    },
    {
     "data": {
      "text/plain": [
       "<matplotlib.collections.QuadMesh at 0xe747630>"
      ]
     },
     "execution_count": 44,
     "metadata": {},
     "output_type": "execute_result"
    },
    {
     "data": {
      "image/png": "iVBORw0KGgoAAAANSUhEUgAAAagAAAEWCAYAAAAzcgPFAAAABHNCSVQICAgIfAhkiAAAAAlwSFlzAAALEgAACxIB0t1+/AAAADl0RVh0U29mdHdhcmUAbWF0cGxvdGxpYiB2ZXJzaW9uIDIuMi4yLCBodHRwOi8vbWF0cGxvdGxpYi5vcmcvhp/UCwAAIABJREFUeJzsnXm8JWVx97/VZ7v77BvMDMOuooKKaEQRBd9IFs3qEqPgEmPUV4xGRfBjjMYE9xg1GuKuuJCgiSZuaCTKa1xAQWTfBphh9u3uZ+t6/+i+cObOearOvX3O3It0fT73A3Oqn6f79Ol+6qmqX/1KVJVccskll1xyWWwSLfQF5JJLLrnkkks7yQ1ULrnkkksui1JyA5VLLrnkksuilNxA5ZJLLrnksiglN1C55JJLLrksSskNVC655JJLLotScgN1mEVENovI2Qt9HbnMX0TkShF52UJfRy65/LpLbqAWsYiIishxPT7Hf6fnKbZ89g4RuV5EGiLyNmf8N0VkvOWvJiLXzzrmfBG5S0QmROQmETkh/VxE5CIRuUdERkXkSyIy0uYcy0Vkl4hc1fJZWUT+LTX4KiJnthn3WBH5QXpdO0Tk/PTzjbOueTyd4/VzvX+LUUTkwlnfbUpEYhFZmeorIvLJ9J5vF5HXdTjvQc9KJ/dRRFaJyBdEZL+I7BORS1t0N8wa2xCRr7foNX1mZvQfb9FVRORj6e+6V0S+LiJHtug/LyLb0u94a76heHBKbqAewiIiLwCKbVS3A28E/subQ1XPUdWhmT/gR8C/tpzjZcBLgd8GhoDfAXan6hcBLwROB44A+oEPtTnNu4Cb2nx+FfCnwPY2320l8C3gn4EVwHHAd9JrvmfWNT8KiIHLve/7YBBV/btZ3+9dwJWqOnPf3wYcDxwFPA14o4g805qz3bPS4X38CsnvcxSwGnhvy/iTWsYOA/fQ8uykcnLLOVqNzPnAbwCPJnl29nPws/P3wCZVHQGeBfytiDzO+o65LEJR1fzvMP4Bm4Gz0/8/DfhfkpdrG/BhoJzqfgAoMAGMA8/t8nUsAW4Fnpiep9jmmM8Db5vDnJuAJnB0+u8IuBc4K3D8vwFvaPn3k4BpYKDls99I79GLgasC82wBzpz12d8Bn+vwuv8a+P4cvueVwMtavuNbgLuBncBngSUt90OBc0kW393ARYf5eRPgDuDcls+2Av+n5d/vAL6U5Vlpdx+B/5M+74UOrvOp6XM+2PKZAscFjv8o8O6Wf/82cEvg2BPT9+s5h/Pe53/Z/3IPamGlCfwlsJJkIT4LeCWAqp6RHjOzg/zy7MEi8uQ0dBL6e7Jx7r8jeckP8T4yyIuAH6rqXem/16d/jxSRe9Mw39+IyMxzJ+kfLf+ukOzuEZEC8BHg1SSL1VzkicBeEfmRiOxMQ0Abjev+zBznn5Hz0r+nAceQeIkfnnXMk0kWybOAt4rIw9tNJCIXWL/nPK/vKcAaUq9GRJaReBzXtRxzHXCSMUenz8rs+/hE4BbgMyKyR0R+JiJPDYw9F/g3VZ2Y9fkP0jDkV0RkU8vnnwBOF5EjRGQAeAHwzdaBIvJPIjIJ3ExioL7hXH8ui00W2kI+1P5o8aDa6F4LfLXl38EdZMZrOBW4liRks4nueVC3A+e1/PtJ6dz/BSxNz3Ur8Gep/mXpvzeR7NK/lh7/G6n+L4GPpv9/HnPzoG4l8UwfD/QB/wj8vzZjn0Kycx+aw/e8kgc8qO8Br2zRnQjUZ93b9S36nwLPO4zP2yeAT7f8e0N6TX0tnz0D2JzxWTnkPgKXpMe/FCgBz0t/k5Wzxg4Ao21+wzOAcvrsfBj41cy5gRHgi+n8DeAXwPI211Ug2SC8BSgdrvue/3XnL/egFlBE5AQR+c90hzhKslNd2eNzRsA/AeeraqOL8z4ZWEsStpuRqfS/71bV/aq6mSQn9Fvp558kWWSuBG4Avp9+vkVEjgBeA1w0z0uaIjH2P1PVaeBvgCeJyJJZx50LXK6q4/M8zxEk4b0ZuZtkMV/T8lmr5zFJ4mV1RUTkKS0gghtm6fqBP+Zgr2bme7aCUUaAsTZzz+VZaXcfp0gM3ydUta6qXyIJ+Z4+a+wfAHuB/2n9UFV/oKo1Vd1PknM6GpjxPj9KsvFYAQyS5LoO8qDSOZqqehWJJ/8XznfIZZFJbqAWVj5KEn44XpNk7oUcHPIyZdbi1O7vKW2GjZDsir8sItuBn6Wfbwkc36mcC3xl1gJ1C1AjEJ5T1VhV/1pVN6nqehIjtTX9Ow1YB9yYXucHgdNSY17o4Hp+Oeu8M/9///0NLOBzlftIAAAzspFkR79jrhO1Qd8d9NdujKr+UB8AEcwO080s/Fe2HL+PJNx1cstxJ5Pc+9nS0bNi3MfZv0FIzgU+q6rescoDv9/JJJ7hXlWtkgAkTkvBMe2kCBzbwbXksphkoV24h9ofB4Mkfgq8leSlexjJgn5Vy7HbaUlmd+n8QuLpzPw9nuTFP5IHABolkt3pF4C/Tf8/mOgmQd/tB57eRvdZ4D9JUFrrSQzyS1PdcpJFQ4BHkIRwXp7qKrOu83zgJ8Dalrkr6bVtIUnI9wGS6p4O7ANOSb/PB0jyY63X9ickHo/M+nxTek82Bb7vlTwQ4nsZcBvJ7n6IxIP8/Kx5iu3GHoZn7TvA29t8fjGJt7Isfe62Ac+cz7Pi3Mfl6W9wLkmo7Y9IDObKlmPWkxj0Y2eNPSn97Qrpff0HkvejlOo/RZJXW5L+vhcCW1PdapJw4lA6/jdJwEbPXqj3Pv+b5zO80BfwUPvjYAN1RrpgjwM/BN7OwQbqFenisZ8eIZACi+in089a/85LdU8BxmfN8fx2C1SqGwG+RBJCupfUIKe6E9JFZzId/zrjOs9jVg4qvZezr3NTi/4vSLyxfcDXgQ2zxn8beEebcz0lnbttzoJDUXxvTb/bLpK83TLj3t4/tsfP2ZHpwn9IDpPEsH+SJO+zo/W+k3iA48DGTp4V6z623Mvr0zmvBp4yS/9mZm0c0s+fnj4bEyToyH8niTTM6FcAl6a6/SQlB6elulUkBnh/+h2vJ8175n8Prr+ZhSKXXHJJRUTeAuxS1X9e6GvJJZeHsuQGKpdccskll0UpOUgil1xyySWXRSm5gcoll1xyyWVRSm6gcskll1xyWZTSjig0F2DlypW6adOmeY29abNfAqNOJU9s/TJOpZTUHX3s6G11QgeaZXwPZbFnVN1708sv4Jw886m9L5f1/Nb4Xs7dgX56+5bdqrrKO01IfvNpg7pnb7OjY6/5ZfXbqmqS+/66SG6gArJp0yauvvrqeY19/Ivfb+pLk4o0w6+MFsR8o6pLIwq18AGNfiGqt9fHJaE8Fh4bF0GM90QLtoGLCxAZnANxESJj/rhoz98sh78bQLMiRI3Ady+K/d2c7x6Xsuute9MsO/feub5m2b63zRJEgc2Ld21xGcTSe+OLIMYzrU4sRyNMI+E9N5k2hEBcCl+8KNzxxtffHTygA9mzt8lPvx2iijxYCutu6ynbzGKS3ED1QH72Kbu9zjOe9Lemvr6kbOr7d1ZNfWO4ZOolsIDfP77fXi3qQ2F91IT6oL3dlGnjZY8xDVBx0r72gd32LtT77llFi/Z3V2+nXwgf4C3isTE2mXv+5+7o/N4i781vjHfndvTutduvHHGpt3EBBWIvNPEQlNxA9UCe8ELbgyoe0WfqNbJfhmLZ1ldH7JVIYnuRrg2H3+ZmOfEAQ1IfEJoVY+6l9mLQWNKEOPz9KrsKNPvC5+/fVgwuxNKEomHbNbK9ABVbPzNHSCS2jYQ07YU2amDe20IVGsajVZwO6y1dJ/pCPfHQQhI17O8mms3IaME2/log7IGpY6AcvRcy70QUpa6dhfg8EZENJAwua0kC8peo6gclaT76ZyQF5QAXquo30jFvJiH1bQKvUdVvd+ViMkpuoHogP/mc7UE9/iW2AQOoDYfftumV9nbQCgMB9O9yPBxjfKEGKuHxxSnbgPXt815o27hq1Ald2/zF+m6d7KG9e295h5DcX1M/bVyFJIbEEktvnVsj/9qKU47e8Jw7EctAxZ7nmjXE1wn7Y0bpogfVAF6vqj8XkWHgGhG5ItV9QFXf23qwiDyChBrqJBLy4++KyAmqXbKYGSQ3UAsgpQn7Ra0uicyXfehee34rPwVJHscSy8OS2F+oakPh+SfXBFWA76H07fHG29/d3e06BtAyYJ2I5R17YagFRZ/ghyc9ia1759mujCAGV5zz9/rWK0qzS6QJqrqNhCINVR0TkZtIqK9C8myShpVV4C4RuZ0HmqkuqOQGagHEAkgA9Dt5FG+32KwIhWr7czQrYhqg+qBQWxKePy5ivq3lfVAyjOvwvWouBqJOsjvqAKQRuH2WbkZvGd+4CAXDADbLHQAFrBCiC0ARxFjENLLBNdb8nRhHE+QgzhxiezGeh+KBLDyASrMS1mvBvjYPoOF5Z51K3Ln3v1JEWhFcl6jqJe0OTJs8PoaEaPl04NUi8iISXsTXa8JufyTw45ZhW7AN2mGT3EAtgFQO2G6C1O1t/t5H9Jv6qVVgvlEnH9L65yBZOmjHanb/MoymnVoH8W4bD+x5SZY+hEJrHRsbuRAtOB6SZTxjexHu5HtZXog0MX82yzgl1+cscE0jfNlJMMeOLmaSqE626KwHPpm09VlBGFlFgWbnN2C3qp7qHSQiQySM769V1VER+SjwjvR07wDeB7yE9ndvUVRs5AZqAWRsgw0ZKo3bz0bZ0ffvcRbhWwdNfXF6IDw2grVGrFxiiKphfVyJzBBjXBKmVhhhsELiqYSkf48GF5Oo4YT4lKDnOXNuF0ZuGFAXil0St/zAymHFJaE4Zdz7Yljf6I/csZYHA44Hpb7nb20sJLaRdHHRA1F4YW3jujz0Y5fif3PwoFwRkRKJcbpUVb8CoKo7WvT/QtIGBxKPaUPL8PUkfc4WXHID1QM549nvMfWFYfuJj8vCgaPDT31tmf0gD26x4zWD2+afjPUMENihmMJ0TGSj5KkcmP8b7y4W3k7bQlA63luhbp8/atjnjxpqI9E8AEZNbSi3QqMv8GxYulQ8D81Dn2Zxs+KiHb4Ef/NhiYm+VMfztafuSBSodykHJSICfAK4SVXf3/L5ujQ/BfD7JP3XAL4GfEFE3k8CkjiepFfdgktuoHog08s8JJo9vlkR+neH9QM77FfCAwpMrrYvwPJQAKbWOeOXGW5Cw7728k77kazsNdUukswDkHgAEC9/6IUgTQCK2sbdO7cnbg2WY2C8WqAsdVR+Dmr+NVTJeEdvlw4ehhCfziXE58npwAuB60Xk2vSzC4Hni8gpJPZwM/DnAKp6g4hcBtxIggB81WJA8EFuoHoi40c4L7pjALxFrmmXUVHen+38U6sdFOCw/exG4/ZqU95nG7jygbDOg1F7KD0Phdcw6ozSM9haN0/UOzyYC3Twxjv3xjMC2Qt5nfmtQl7PwGTUN/t7nJJRyLj/eGAq1ato/6B+wxjzTuCd3bmC7kluoHogQ/epmWcZ22SPn95kb+OjffbbVNlrLzQDO+w3YWSzrS9atThAVA0bsIIDAIlqTvjQGZ9VPCYIvEXcZYqwUBb2WI+JIeu1kZlJwtkYWSwZnnHyqJCca/dBEN74w8EkkctsyQ1UD2TFf99j6lctHzH1bqikbP9s3k5YYs8IhA1MXCmZ4+OyvdIUJm33sDFUBiPUNLWqj8ZAeLWqDYeZLApVmyopavjh0co+B4FpDI/qMXHZoImqxTQHwvevMN2kYeilrjSNPFKhrjQq7e9tsarUjftanIpNfWkyNjdlhaoSW/rp2Pxdo7q6NFAmgKQSUQwAYBpO6YVrnLpiu4TmQhe6LULJDdQ85Ml/8F5T3zjDJn30cgkel93kaltfHzbVFByQglcMa5HNJvNb+j4X0uzlaUoTYQNZGnfmzhhGafZnKXop2F5Mf2Qudk1nYxJXbDfDyiHVB8T0UuqDkWkgasP2d4uLYn63xkBknr/R73tnTeP7aRHqhqGJnfybl5fNKglIIjdQsyU3UPOQq77yV6b+qb9ro/i857Cyz/Zwhh0mifEj7BDg5Fr7AkaPdQzQlBNC3BbWexD5xLiFx3v5OU88JJrbisRFkjnzGzqv0NaTyMl/+TkqL8Tnffn5hwizhg+9EKHFEwjZQRZZJamDyg3UbMkNVA+kssuGknlhsOIBGwmgJXv8iJOn6d/rhAhvNnaaBSiNZwP4VJfZ5x83UIJeMWz/Xid/5rChFxyuvMybXAuuHKsP1Z7n3B2JY398olzn3jnG3/LwCjW1UYDOD+PUZ+PVOPfaQCXXkBuo2ZIbqB5IbVmfuZBNrrFv+9hR4UJZsBmtwefq699jrxRWwWahCcVJe6WKamEDJo2YigGhBxi5LazTor3VNkEI+Pk9zwuInfNn6VHttqNwjJcL8HDEJVR1gQzzv7eZmRxccIozv+Nh9VpyD6q95AaqB9J/935T37fLtjBL7rTfFivRnhxgq72FzJo/Lgqx4cE1KxEQvv5mf2SGa6KGMrEmPH9csmuVCtMa3OnHRZtRWwtCcTJ88zqBcZuLdMb1p6OmfpZkCMFBB4ze3vdzeAItD01iBwWY9d54zRQzNFvsRBShmWV382squYHqgdRXDdkHeLUyDQeK7Yz3Gh6ObrB/9oZN9cfgDvtFsjwwSBBfliy507BAWWHeWRBZzQ68GJdtwT69Nb9b4+XN3esNegZGco/n0IXYe6f2couGXmKnl1WX8OF5iO9QyQ1UD6S63DYQjb5sD2JcFMrj4beiPhhRHWl/jsqosu9R4RBcZXeB+hLDi1hRo3RVuFJ4fD0svym80jT6oDxq8cn5dVbzZTtPGhLacGKLaSIuhtvJQ2IArDSMis8Ibq3yWugADm3u9B3j6fHVOYu0CQMXO8zm6UXt/JwLkijbz0XWjrtZRRFq3aJF/zWS3ED1QH74VRvld/L5HzD1Xr+oZlmoGXx+1m5varmw/DrnRdgaflvFobEYvjuBLIekUFMahr7RL9SMMrG9j3Zauo/YML+BX9nXX9lnql2qJJcvLgNKLzvPoDd/b3fwkVNeYZUfJK1CjPIDg6kd/NIK797FGdGjniSFunmIb7bkBqoHctaZf2fqI6ddxp6TnZ1u0Y4pjNxqG6C+vfZ4rx1IadRmupBaeLwXvvTCn6t/lJFNwer5jo+Q9PnqHJCGoe81SCILVx50cH0eiMLxsMxz22rvZ/c9LAd4dDhQfDlI4lDJDVQPZPQYe5c+sNP2Ajw2b28R9HJIXq3O3oc5Oazj7Mdm00k2U/9dd9ttdQduC4MsPC4+b6fswczLY9mMd8FBOGJQOXUS4LGMkIdwdI1nRgPoUx3Z996CmUcNb/5sLXm9PJJXR5VVVIVmN9AWv2aSG6geyMhme5X06H48qS+xt3sWFx5AY9h+25ZsthfZ4S32y773tvWmXk+2v//UuvBqsdTIb0FWlgt/ka4ucWrIli0gXjlriG8RowB9HkJbnZXr73A4N3HuQR0iuYHqgTQr9tsQTTcpTIbDZM2BsonE23FqiaGt4YV2elmZwQAh7MQaYflNYQNRHypQMlB4GsHAfeFC5LhcYPDu8HfTUoE1P7XalkcmI3hcihALqFCKwmHCThCAnhfhhhCzoQyta1Rx5vfCZBkW+Y5aujtMEQWDyd2HgTt52T67mWOzEu7kHBft38VlmegCtiEBSeTL8Wzp2R0RkQ3AZ4G1JCHkS1T1gyKyHPgysImkJ8lzVHWfiDwM+BTwWOAiVX1vOs+J6fEzcgzwVlX9hzbnfCbwQZJoycdV9eL0808DTwVmGjmcp6rXzh7fLTlwjL2LLo8WgXAxrsU1B7D6GtsDKdTCP+vgDmV8vX19zQChKCQIxInVYRj90PYG9RF7fot0FGBirUEGa/PsMrDd1lvoR7DrpKCDturZIk22EclogDIzhnvGO+P8Zp1TB60+rOc2Ltp5pKz9orJKDpJoL7002Q3g9ar6cxEZBq4RkSuA84DvqerFInIBcAHwJmAv8Brg91onUdVbgFMARKQAbAW+Ovtkqe4jwDNIWhj/TES+pqo3poe8QVX/rftf81BZcocNIqgPZWtoOL3CIQ3N+DLtPcleiBqD4UV+76Mjhu8KfwELYg5JrqFyIHxMn4Oy8+6dB/H3SEk9yYKU83pJZUbZZQwBZh1veRquccsawlvkDQsBmnkd1CHSs9uethbelv7/mIjcBBwJPBs4Mz3sM8CVwJtUdSewU0R+25j2LOAOVb27je404HZVvRNARL6UnuvGNsdmkie+4H2mvumQtXpdW71wxv4TnITvSWOmvtm0V5LCDYOmvm+ntwqHVbVhcdnMI0PvMqG7c/sG0pzfSaZbYSYAadoT2F6KZsqFZO2plNlI9BAl6H8359wZmzFmlZxJor0clqCniGwCHgP8BFiTGi9UdZuIrJ7DVM8DvhjQHQm0stBtAZ7Q8u93ishbge8BF6jqIUgGEXk58HKAjRvDLTN+fOnrzYs85+FvNvXxkI3yk6odwlt2tbOKZpXCZFDVHHHa+XrieAHNfvuRnFppIwynl9svecnx4LyFyAsRWvmxrJI9v2WrrXYVYIfQkvkzIOXUNu5aAIzXIisburfxODxksbmBmi09v+0iMgRcDrxWVUdlnmEKESkDzwJCq3+7iWee+DcD24EycAlJSPHthxysekmq59RTTw2+Lec84kKYDrtB8TLbA5le1U//feHGRVPrRyhUw2/MvWdXGLkzPP/4BigFnKj6MCy9zWIjgP69YTekWRKTzVzUrpOKS5FJJhtNN81Q19C9DTPUNbiF8EKs9iIvTTWh2KKOlxGrWefkzh+rSUYrDTWNkBQkE52Rt0i7CEjHw7FBFnY/qszdfEuEPXvJRlbbHS4+uuZBGfn/9wC/C9SAO4AXq+r+1IG4CbglneLHqvqKrlxMRumpgRKREolxulRVv5J+vENE1qXe0zpgZ4fTnQP8XFV3pHNvAL6e6j4GXAdsaDl+PXAf3B9uBKiKyKcAm+oBuOW27Zz5zHe11UVH2pn68SPtXf7Q1hq1VWGQRGMgMruLLrvFXiiW3Wootxk6oFCHA0fZj0V1uR0vqS2xQ5xFp59UxWiYWJowh7qLaMFD+Dvh1cySgUtwIUNonehdtnMvjGbZfodqKCvIwbu2Zrm3z4Ui1LtHdRTK/18BvFlVGyLyLpKN+5vSMXeo6induoBuSS9RfAJ8ArhJVd/fovoacC5wcfrf/+hwyufTEt5T1XtJwRPp+YrA8SJyNAmQ4nnAn6S6GYMoJCCMX3knO/H4tVz5rTe11Z3xLLshoZcH8QyYt8h681tUQwDFKXv+vv2e3pjbIYL1qH4afWLu5GtD4dbdkHQjlkAEVIvOBShYcTDv2qO6ZjJAYvdqRJq2kXDzY6jpRWBRDUUky541v5U/c76bp5dYzUJe1IG5F+bPxRcX8KkqMooqXSvUDeX/VfU7LYf9GPijrpywh9JLD+p04IXA9SIyA+m+kMQwXSYiLwXuAf4YQETWAlcDI0AsIq8FHpGGBQdI0Hl/HjpZuit4NfBtEpj5J1X1hlR9qYisInkFrgVc9/XWW7Zx9lPbUxbFK2wDU5qI2X+svRuaXm2tdmJ2pR3a6rAdjNoWrDDtGBGXkTsj0s0YXpzAXAzKB+zv1revt3kaF2rtWLFeQrmzzu3D2J3hHgQ/o5g5qsje2BglWD5buXan1skWmUuh7koRubrl35ek6YlDZz04/98qL+Hg8p2jReQXwCjwFlX9YacX00vpJYrvKsKP/Fltjt9OEpZrN9cksKKDc34D+Eabz5/ujZ0tUm1QunNHW11pqxdvUIatKqu6HWeKVy+1r81BohE7SDGHby4aN5gwnIaAXquR+qD9yE0cYet3P9ZxE4YcFoxrbRaOgd1eR16nFUoGlKGKvcjHRRsB6RmorAbEKrSFbEi4nocfM4QX4XCg+ObkQe1W1VO9g2bn/1s+v4jEH740/WgbsFFV94jI44B/F5GTWscslOSlyyGJY3SiPZpNVNHJMJuClBw6nGmbCilqOLGUovOzDXhkfM5CM2KPry91mDUNKdRjcyc/fG+dxkB4tTn+UpuMz++YG/7dOhnv6X22hvl7eAUAq5jV4SnMShbreYeRd2+slu7YLd3B9mKyovSMHpuHTboJMw/k/xGRc4HfAc5STRKuKaK5mv7/NSJyB3ACSURrQSU3UAE5/pSj+NbV/9JW96Tn2HVQI7fYHXUBJjfZQAuLbaF/t+2BeR6WV/BZudtAKQCV/Q5SoejFgpyF0vDw3JbvHhu54wF6W2mvrQPe9WVpXS4CFozda8bohW49mLg9u0ui4YlloDwIvFuI63lQC84kIV1rWBjK/6dMO28CnppGpWY+XwXsVdWmiBwDHA8YOOHDJ7mBmoeUR20PZ8/jlpl6b6c4eF/DzLU0+u1F2Ewm47Mp1JaG2cY9D6E+mK2WxgvVFKfsnXZ1iT3/2MmG9xoLg8vCHtZgpca+X6wK6pv9ysBWm2+uFC4xIy5BKVx9QKPPBrDERSiN23x0IRqt+mBk1ng1yzbXXRJ+tHNEdg4JIgug0lQ7/9Z03itn8fdsg2QAp3QiCtS7x8UXyv//I1ABrkjLfWbg5GcAbxeRBglU5hWqutc6gYgMAtOq6gS1s0luoOYpjcHwEzt4n+3hdAIymFwb/mmmVmbLBXh0QZHTs6k0Fn4mS+NQdFpOFBy2dbNnlJNfc+V/soTgKiwtGhYE3wtxQRiGB+aGFzO00yhOxWaNWNSwNwZRU83NS1LjZRkg7I6/DgjC6qTcDfGQs104Q9f6QRn5/0Py8+nxl5OEA4MiIhEJMvoFwONJQoIVEdmVznuJqt6W5brbSW6g5iEh+PmMnLPhfHsCbxGr1Qwq2Q6k7IA4Bu0ck1bseEbcb+ujKYMtfXm/yRZRH7IfycHbbevq5qAKXgjQCXM5VEZuiC8yDFBR7DosZwF2WSy8t90jKPHyPBlAGnHJN0ALKb1myVMWPZPE94HvktRO/UpVY4CU/PtpwMUi8lVV/Xw3T5obqB6ILnfyS8tsA1Haa8SBSBCG5vn7MhqYCa8/dnh8Y6gEQ/b8007PpANHh1/UHY8Ph9gzdkg+AAAgAElEQVQAhu411W5DwsxURgtY6Osi0TJ23HULcb3xLsovW/jXErdGzDHODoCxK7LIO+qeraqH7DzTUODlwOUpMKOrkhuoHsj4cUsoGD2VrPAdwNhTHRSeI8P3Ol1jR52WE1X7/IVJI94RQ1Q3qIzqMUPjFqmaMnSPcXIXBecl0z0km7NI9LBflF9jZap73vLdvb4M47PCxDuiOsqi7/FKqSqL3YM6RURWquo3Wz8UkWcBW1X1mnYGLKvkBqoH0rfL9kAGdtkvU3k020ITObv8Qs1pvW287MXJprkQHji6TN2IT5YmYf+J4fOXxoXpI8LPuZRiov1GS/ixKCn2bSONQRg0utFrBAUDqi2q5k5cYn+nbiIsxQYSeJIACebJ5qAOS0XTXsS9luwS20zs0nSKZZuOEerA+QgZeDEINmamNhlAugaS6Hk1cBZ5D0mrpNlyIwl/6ZxrTTuR3ED1QL77g4tM/el/9F5TXzZACABx2d5pebvJsfX2zz56tKUt2MlslKF7w+dvVmDlddb8yopfhV/U4rRgJWPE8N7ApyvyJDMSOGNLC3NsQcBE0tnjPSaDLDkijWwyWHBYMry8rRd5tey2ZMsxdcfxka5RHfVIVqjq5tkfqurtIuKSKMxXcgO1AOJ5MKNH2SCHiXX2/NObbE87GrNfx6HNTssKZ7yVx/FyPFHN0dedHJHHsuFIVgPksTWYUGwPYOEat4zhTc8GuChBe7y1ccoaoms6enGSSE2n9rzHmcUUJLGoc1BW3N9u35BBcgO1ADL4s8223mGK0CmbDUH6s+WwdMWSsLKZDW/biQGprR0O6sY22itJ1pYRfU4RdHHC7jbpFQJ7UHAvx2WNd3NEbv7NVPt0RN54r9g2A8giKxVS1oaH3ZBF3rDwuyLyThKevvtfIhH5G+C/e3XS3EAthDgGpLHW5uKbWmc3DZxy2mGMh3sxAtDssxfxoXscD2osPN4zEMVpW9+/xwnhOR6WJ94iXl9iG0ifjHb+KDw3PJjRwPhksdm8nIUESWQ2QD12brrJJNEjeT3wceD2luLfk0nokF7Wq5PmBmoBZPp4GypdG85Wq7PqJ3uCUHStFFl5rQMDXxU2oKWJBtMGm3vRQC9CEsJrVsKrRdRUCtMGCrDaIJoOY4K1VAhDvUXcMFpcthIhSmxQKUkzJq4Y+obaQIPYXsRjsWHuWoxcDzWUg3PDe67h9XNUZv7PaSWSVTSaP0gCOTweVLyIPShVnQCen1IhnZR+fIOq9pQSKTdQCyBeHqVywF5kmn3227L/0cud+W0vpDYUflGqy4tBupzk2iKmVtgv2thRjpdyXDiEGe+3S5iHb7PvjdfryquHySxehNNK5mdcv1y0mXNtWQEm7tzGY+kWAXss8pFDc2ithEqwx1i3RBXq8eI1UCJSAPpTg3SniDwRWC8i64FfqGqgh3c2yQ3UAkh1WckESjTLYobp9j7aaafR1wwi7SQWhm8O/+xagIGdNt+bt50uTYTHF6fVhNGXxps0f2F4aJNNYssDq9WDYTq3Zbp6cGI1PRxvPPghxExhtowhOq8ZoptDysBGDh2E6YzVygNJuB1zvTooI7LbjchcEuJbvAYKeBdJ9/N3p//+AnAD0Af8nAc683ZVcgO1AHLV5XbH+ce86gOmfunN9oPcdGDonpdgEb42KjC4w96uVpeEV6L6oDC+znqjI7OnUv9u57s5dUQegtITv29QRgNkvZEeSs+Fejt677u5QINsTBImCMIb6xm/jIW63eNxDcsiZ5I4i4SDb0YOqOrvpszpPWtumBuoBZBTX/Z+U99vgAzAZwyvHLDPX++3x3sgirv/0KELui/8WA1utRm9Le8r0Ts5LpeKyFZnXyPmbwA1EgoGSNCuP+vEwGT0gFymivmHT+OiOHpzajtEhx8CdKmOet5uY9HDzCNVbb1LbwJQVU0bI/ZEcgPVAwm1ip+RFVbHWpyOtsB9vxluhwHQcFDmk+vtRf6YR2419ffstnNcKuEQ3fh6iEwkt71QSdPbxttqd6FyyFoKjt7NhXhMExnzRJkk4/qY1YNzmd5NNnV7rKf3SHrirpP4zJZFH+Iri8jwTK5JVb8DICJLSMJ8PZHcQPVAzHYRQOyQuXpN99b9wGb0lpq9HYwHnarEOFyHJLUGx2LUYYkAYb6gmtMSHqAxFP7+FoADkvydJaVJj+bJVFNxeAxNnkL8Viax1W4jI4+gt0G3cnvJ/M74jG3b7ULe+Y+FTiDwzvyHoeOux+SxwPIvwJdF5BWqeg+AiBwFfDTV9URyA9UDiab97ZZlRLSvbLZV3/mUYXOnPrBLqQ23f9jLY8rInTZbemMovCHSSCgdCMeholojDPMGSvunwGg5AVCcDOsru2xeGi1IOFejasPMYzXZEqSpZqGsxGrSUEms1CvhV84DYQB2y/cOQnwhpguNxB4vDl1Q5PMFZXEQEq6/+Y+3ACwuOlF73w8qQfEtXi4+VX2/iEwCV6XNChWYAC5W1Y/26ry5geqBeB6Q1Jto2eiJNFIxe/+s/JVDZVSLTe4Rj46nNBo2QHEpIjZg7nFfgdoSe7s5utEpJD4qfH392+xVcHCHUwg86VAl9bDpXUdifL2sHopPlWSP91GCWcfPv5DX9c6y6nvNZr74C3VR1Y8BH0tzTjIT7hORNaq6oxfnzA1UD6RwwKYi8qTsEJ56Hsj+R9pMFAPb7OmtbsGQtAe3pLo0rG+WMPMolVGl8suw3qsh85gqstbyRFm5/iw2BcG8N9651TGuru3N3A/KOb/VaiQrk0RWFJ8X9c5DfPeLqo6LyBIReQnwJ8DDgSN7ca7cQPVADjxqpamvLvFjHWObwrrCI0bNsVNjNl/c4E3221i2pyeyp6c4ZdRBTflQcBsk0WOYuEvn09tFJEsYLKuHlJmvzmMcNyRp+R7WR3WnHYc3v9uN2Nb3Gr7wIEDxISL9wLNIjNJjgWHg94Af9OqcuYHqgcROor5ywCm0LcCKXxnz3xIGMQCMOGu4l6hvGDD0ZlnMhaxQtYtho6a9kMYFaBpk7t4iPLnG1q872265e9d2e3PRf63TzNEx3qbx7XF4MWsdlCsZDKDrnWXk0sta53RYPKguofhEZAPwWWAtieN8iap+MG3P/mVgE7AZeI6q7ktrmT4I/BYwCZynqj+fNeelwBnAd4APkxDE3q6qV3blogOSG6h5yDnHv9HUlx652tR7ITLABBrsPgX6t4dXg9pp49TG2ntJ5eFqUAcQ7S8ycF947kLVRsLFJTH1jT7o2xdeiWvDkUkIGxeFwlRYP7gjCnL5NfsK6I/Dv01cjthktPvQoiCxUQIQY261vYaCHggDHCOSuZuwqfbJYp2GhZb36TFVqMOHp4Kdv8vazsMKOnQB+q8qNLoHM28Ar1fVn4vIMHCNiFxB0nDwe6p6sYhcAFxAUs90DnB8+vcEEmTeE2bN+UhgH3ATcLOqNkV6SX6VSG6g5iHfvO3dpv6Zyxxy39hJ1A/Yu/RlP3Tepsvsl7F6rFVHVePAsXYIcM/JdsPC0pjD9nDr/OHM/dvt/F405SAoDcMPdLDIe6Rw2cZH08Yi7RgvC6IOJMuWNd4xQOKc38uRdYKWC0lcsj3MuCS2ochwbug9ig+6F+JT1W3AtvT/x0TkJpIc0bOBM9PDPgNcSWKgng18Nm2j8WMRWSoi69J5ZuY8WUQeRhLe+66I7ASGRWStqm7vyoW3kdxA9UBkxTJTrwNOywYHBCFVexGurbFDgF4eZeUvwkkoqTVY9ZPw2OaQk20Gmn3hx25qdYmxI8P63Y8comFAFJfdpNRGAhD7UTWpjorTMaUxi85ATZCGF350W7KDb+Cs8Zn7OfXYw8rYrsN6bpslr/wgfP2J9+ac26Jh6oLjM8cc1EoRubrl35eo6iXtDhSRTcBjgJ8Aa2aMjqpuE5GZcMKRQGvse0v62UFwKlW9GXgr8FYRORV4PvBTEdmiqk/q9OLnIrmB6oHseMYR7jH7H+4UbA6Ht2z9d9pv0+A2B2ptgBgAGgN2g0yPTsgDQVgw9769Dfp3W1tpc2oABu8zzu14UGaivyA0nYaEnpFw65wySGaeQM94ZhS327DT9dbK36njnsUqZorM2ROaRqhbucM5GKjdqnqqd1AKB78ceK2qjkr42W6nMG+oql4NXC0if0WSm+qJ5AaqB9IJNf+y68NPfG0YrJXO4w2bXmY/6M0jbH3Z4fI7cGLYeI447S7qtnNH+bS9tr5gx1r2X2f32io4FQAuyMFmoXKpkMzfzgszZVwI/Xb0zniP5jBDHZXr3WUgmu1E73qHBnCnG9LtOigRKZEYp0tV9SvpxztmQnciso6EnRwSj2lDy/D1wEHbPBF5C/BPqnrQC5qGBf9HRJ4ODKjqf3btS5AbqHnJ08+62NRPn2qHuSyyVIChbR4djmOAnCjbWCAEdr/+aHslGrnd6ssAfXsND2mf48HdstT20JxFcq0ehmTBIpWshbaZIfiuEQiPj+pqj284SL2Mi7sX4jssOagu1UGlqLxPADepaisz9deAc4GL0//+R8vnrxaRL5GAIw605p9SuR74uohMk7TX2EXCwXc8cArwXcAmIZ2H5AZqHvLf37vA1D/tN99l6r2OuQDjRxh8dEvssZX9tn7Fr2wDWJx2imEdvdX1FfwwG8ZO30+0ZwQWeTkgbw3x8jgZ8jRujshlG8/GROGKVweVxcNyv5s9deZC314zSSg0utew8HTghcD1Le3ZLyQxTJeJyEuBe4A/TnXfIIGY304CM3/xoden/wH8h4gcn86/DhgFPg+8XFWzsRMEJDdQ85AnvMhul8EaeztWGvfrkPr3hI/p3+sn47PorWaJiYEw+j0N2NfWvyc2DeDEmqLpJU0caS9G9SUxNAPXUFD6txksFxUYvid88vqg0LfP0A/YEPt6v1AyvMf6gJjeZaNfKE474w19o0+CIJFmWUwvQYuYv0sndUou158xhwsz7yTEFzq/OiE8hWa/sWkKPW9zlC6i+K4i/G3PanO8Aq/qcO7bgNvmf3Vzk9xAzUMKxiIAUDlgJ4lCdTozUl1uB7wn1tqrgWckrEUW/ELiwpRhPIGi8/0sD2npgbqZK1l+Y0YmiV6i6DrQWx5SHw4VkoO+LI3b+uJkWF9C/WLWjCE+j2neMkDNih1mc/AV2VvGN3rMIPIg4OJbCOmZgZpHNfPDgE+RUGhcpKrvTec5MT1+Ro4B3qqq/9DmnM8kqYguAB9X1Ytn6T8EvFhVMzXY+tFlrzf1Z5/xTlNfPBBuRwFQunuXfQGPsWmvDhxtxyv2nGIv8n3b7fEj9zj1OBNhfflA3QyDRVWvcY+t9sKH0uwxXYNj4KxC3LhUwPqCsbMKixMCjLxiVWcRdhsmOgbMAqB4xq3ggFO80gnXeDrGueBXT2QWzQ3UIdJLD2qu1cx7gdeQcDvdL6p6C0kSDhEpAFuBr84+War7CPAMElTKz0Tka6p6Y6o/FbBZVDuUZz7qIlNfcqiELCZzAPrt/l+Dd9owu8E77em9YlGzFYh37V4Nl9erqt/pleXAvJtl27h6ZLNTa+17X5ywDajnHWctts2yhnn5Oxel58yfpWGhxDbFFXh1UN5YW+8Bi3qN4oMHB1msiCyfjeTrpfTMQM21mllVdwI7ReS3jWnPAu5Q1bvb6E4j4Ya6EyBFpDwbuDE1Xu8hqYL+/U6u/+a7dvDEF7yvra54vF2IO3z1FnSJUUvk7LKnjrLtaLPfXoQH77LZXr12II1hB4W4z8qHxqYBzGqAXCogR1/vtx95r4arMeDA6I1mi+DQ+WRGydn6xQzldsdmPbfnQfXZv7unzyqqi58sNpWfpMCLTwHfTPNXPZPDkoPqsJq5E3ke8MWArl019Ayf1KuBr6Xns67z5cDLATZu3MiPL20fynvEhR8wL3LPSUeZem835iGSCnaEkL0n2AbUOn9choaREC5OCdVV1gSglbCXIqUYJozHri+mtCNsxLSglEbDv2F9GPp2t9dNr4R+o2vN1Fo1OQ4n1ykDRj+qyXVK/46wfmqdM/8RavIgTq6P6d8aXuUnN8QMGPqJjU0G7m3/cE1uaNJ/X/jBm9rYoP9egwHk6Dp9m8O/2/SxVSqbwxuf6qYqlbsN/fo65W3h+WtLm5RGDfDOSJNCoBFmcyA2gQ5aUiiE34nu2BWh2T0UXy/lBOBs4CXAh0Tky8CnVfXWXpys5wZqDtXM3jxlEqr3N4cOafOZisgRJHDKM71zpHQhlwAMrN6gj3lle0MkDszb21JEXjHnuK33DFx1ha334vkWG0JjUCnt8zww4zeeKhD3W9luqK0K36DCRIHqKsOAjkVBGH5Uh5rhnBamhepyQ18V894WarY+qgnTxrVHdZhabaDFvPHTwvSKsL4wEVFd3l5fmIioLTPGjhWoGvpof5HaivDGJNpforbM2LgcKFFbaujHC9SHjflrkenlFKaj4HNdmI5skMS0dMsKmfJgyEGlHtMVwBUi8jQSmPkrReQ64AJV/d9unq+nBmqO1cyenAP8fKZzYwrC+Hqq+xhwHe2roR8DHAfcnhrHARG5XVWPs05W2jvNmi/e0F65Ya2Zi5Fag/2PCnsxfXub7Hp0eDdYHkt2+8HxuzHhxP17mkggVKUlobwvnK1u9hfpuyPggpDwCIqVY6vVTa5BmarZ+lqDeMCwwCJmCDFhBG9vQKN6k6YR4ovqMc1K2PhG9ZjY0EvTbvmOw9gtaofhxGlJ7zJ6Z2Aj99tZiElV1CzbTBjNkpgAF43sNi/JHGFd1IBmIL1YmIaGwc9cqCUs/NbcWeXB0A8KQERWAH9KUme1A/i/JIW+pwD/ChzdzfP1EsU312pmT55PS3hPVe8lBU+k5ysCx4vI0SRAiucBf6KqN5AgCWeOG/eME8DxpxzFt67+eFvdWU//e3NseXuNZb/YEz5AlY2bjQk8qLMDVGgO2i6WBeOO6jV00AYKWAZEnCR/vNTm+fMAHI0ROz82vt7WV5dkg+AXDYg9QGWPzZVUdHJcbq2s8Wz4zRad38YbXzHGT6tZ7FqYhmafRd+lJkhCYqVpXJ8HsKgbj108aIMompXDAJLQ7DXmh0n+F/gc8HuquqXl86tF5GPdPlkvPag5VTOLyFrgamAEiEXktcAj0rDgAAk6789DJ1PVhoi8Gvg2yXv+ydQ4zUtuvmMHT/7D97Y/13I70T+10o6xNSv2QjCw044BegvJ+Hr7+ibWmWp3R9jv+LxWPydvgfeaKXpksYNbnW7CTrt7n9Hb1tdH7HtveikeyMGFUmcDWbjzZ2D89vSZQRIZUXxxeWFBEvDgQPEBb1HVy1o/EJE/VtV/VVWbQmce0ksU31yrmbeThOXazTUJOJkVUNVvkNB2WMd0VAMVNeLgbnh8g+1huHQ8znMYF4TakvB2tLo0MneM9aEwHVL5AEyvCxuQaCqiYPQkagzFlMbDK+nUahBjpZ1eVmBgV/gGVUcctoZBoTwe1teGwnpL14k+K9ODxeQASZjL5CHswvpltZywkqeiSlQ3LkDtYleJnZbt6re0MJkmPONeJJxbjSG2No2K+U50Q/TBA5K4ALhs1mdvJgnvdV1yJomAnHDiOr535YVtdedsON8e7AFBvLYHsTJgqGvHWQ0HoXyPXaZQP9JG+Vk5Ji8E54XRl3rt6Gt2HZGVIwJoHt0XzEUUqsroxmyMqoWqkYivKuVRx/3M0PXW7TuUcZPvsmS4RqB3ZLK+d5YNQu+FCD19N2Qxh/hE5BwSvr4jReQfW1QjuK0w5y+5gZqHjD1+g3tMo9+AQg9EaUuNgH4Ec7EpTtq71f6N64J6LUB5NGyAmhWhNBnWx0XbC9CIIEADSHoOWVyAIyVb78jgdvtdsXplaSRmV9i4HBEZLeGblcj0npuViELVHm/Nr+XIJOLVkthdZ4sSzD9qJD6beQYnwjWuIubeIGo6hK6dXLvBxecVEXer55MlixzFdx9JCuZZwDUtn48Bf9mrk+YGah5y1Vf+ytSfc/wbTb32e4VQDl3PtIdTd7ycPo90zVikB20QwoHjbBAEwMQ6J4d2TNj6FozwIsDw3R5fnX1vy2P2SlQybn1Ui02qpqjaNAuRi42m6UF5RcRefs4Cx0isPht6xo679mA1UYAaJUYqKBnj6h5C0J0+o6gubgOlqtcB14nIparaM49ptuQGah7y9GfY/aCaD7Ob5nntKLxktfey1IbslcLKkwDUB+3xk6vt65s4wjBwFcVyDyu7I/q2hVeL/jACHvC7BXsAEA/AEpfsV0bcOJattie31VlCaNABlDxrmM2YPytLhYeyc2mUvPFG8Xq3ZDHDzEXkMlV9DvALkYNWICEpj3p0L86bG6h5yH9fYfeDesbpf2vqi1sNCDqgS2wcR22l7aXU1tk/65gToRzcbr+My26zV/lV19r64qhTKZwlGO/2JMrIVu55p84i3Uu29KwIRN+DMtV+DsqFwdvzW9/dNUBek8+M47shizkHBcwk3n/ncJ40N1A9kCv+31tM/eNf7PSTct4Fry356u97WGrnTSiHVwqPS8/rNeWBLJJchIEiHLTP78G8PbLX2lL7lRi4z+7LJkYOCWwDp0Wxc0zFyL2/9rmzLbKugcuAP/GiBpnChx1Ir0N4nihCvIhRfC0ddncDU6oai8gJwMOAb/bqvLmBWgBZedV2U1/dZPDtANPLSpSMeqJ7/mgdlX2BuZfB1DoLBGHnAiq7I/oMB7A0rhTMPI2aUOqooeZiEdVic6G0QAhgewkSK6XxsAGThlIfMYqUY+3CIp4B5ecwSWTNIblks26I0GHRyFRHlfHarH2N+ijAbsjidqDulx8ATxGRZcD3SIATzwVe0IuT5QZqAWTi4XaOykJyQVp1b+w4V9wQDrEN3QfxLU6x6aClV6ZWhvXVpcLYMY6RGHLYGLaEV4uQ4Z0Rj2fQRWNlXCW8+T0jYI7P2AvLk6w5Kt/AOeMtA5RhLHQhB1XpNUpicYMkWkRUdTIlWviQqr5bRH7Rq5PlBmoBxAsnTKxzwlhD9oPsAQW8EKHVkVcL/kLUtyt8QG1EoRp+7JpLmlTXhg1sdW1QlV6grZaqAyAxmi1CdrhxpjXIHZs1hOdN74RvvdNniGC5EPii10zR0TtMEsUhBznbDemSDRSRT5Lkinaq6iPTz74MnJgeshTYr6qnpJ0mbgJuSXU/VtVX2NPLb5B4TC9NP+uZHckN1AJIccIGEYxMNBjbGIZzT9gNde2Kf2DprfabMLjDztOUxu3r97rieihGiQ1W6ww5GPBBCG6IzQUaOCCKjHx5ZjGrl8fJWoibMcSXtd+VHeLz7vv85waIC71fKrvoQX0a+DBJR/N0bn3uzP+LyPuA1q6nd6jqKXQm55MwR3xVVW8QkWOA72e+4oDkBmoBpNFnvy2VvdMsvTm8Y1v+C2c35yyyMuE0lKoaLlaxCA3bQOnykaBu/JiwDvxcQsGpBSpO2saxsm3M1Hs1ZC7AxDNwRrPIuFwwjbtn/EwmdaDhNLrMCqLww5sGzZMD77cK36ETFJ6jd7n6bH1WUSA2cr9zmkv1B6lndIikJN7PAZ4+37lJ8lAz/76TpBN6TyQ3UD2Qx7zKbmjYfJj9NhzxXbsjrlcsWzhgI80stnItCNXV4V4fUS1m9Ojw21oeVapLwwtl317bgJTHmmY4p7y/ZrackHoczMWoiHnv/ByM2MdEYnpAKh2cw/CCPA+mIzYFS5/Bw0m49mwQhNUOI2n5bgFY/Ou3DKQWQQL7Ki06+a+S4711Iz+lzCX+u1JErm759yVpL7tO5CnADlW9reWzo9M80igJGewPQ4NT5N5fAZtosR+qOi+D50luoHogv/iIzfzx6NfZBuy+s1cwbVDj1lbYizwFm8y2MGbvpMv7nBzXZFhXXSJmLL3mtESHgoNEc1rGe3kOz0HKRtWXWXoNp84kGb97lnvrhw9tfVxyiuMdIxP3957raA4Yl92qeuo8T3NQ2yJgG7BRVfeIyOOAfxeRk1Q1tEv+V5L+ex8HnIUou+QGqgfy2FfYBqjkPOvNCgwYSPS+Pfbb6CGeyk6UywqXeAsBEt6pQgJzt+aQJkxtCE8glSYjS8MWcnT/ABIIJWksFHaFv1yzL6ayO3xxzb6EDT4k9WGoGDy91WWOfrmNUqwug/L+sL62zL++YqBbc2MIihPhsY0Be2PSGEh6PoWk2W/rGwMQGZHlZp+6LPuhlu4AjcGYKACQiSuxbRxLihSNvKihm5P0GCiY9sz7A+Bx959StQpU0/+/RkTuIGnrfnXbSaChqh/t7ZU+ILmB6oH8/GO2B3XGs95j6r08zPRye5s9tcoev+8k+4WShj1+YJvDd2csRP27MMlmAZbcaXS1bURAoJcIMOTu6axzCxLbE2TK02zG9kLusT2o4Xvt6Q9qH9dOvPxYRu/RhYK7MHUjvOmxVOx28nM7rZMXiO2ouZujyi5yOGDmZwM3tzYaFJFVwF5VbaaAh+OBO405vi4irwS+SmrYAFTVbqEwT8kN1AJI3047R9QcsN+G8gH7QV71X85KNmRTJdXXhQ0AQG2pnTG22Bq8RH5hygZglHcGXIBULBAC0EEhrEdl5KHF5o/ic1k4XBSel9/K1lE3S/4MbCOT6AwOx4zNFq38FkDs1M955++KdA9m/kXgTJJc1Rbgr1X1EyRdxr846/AzgLeLSIMkZPcKx9icm/73DS2fKXBM4Fpe18ElT6jqP7dT5AaqB3LWmX9n6iMHKVbabcRagNoqm6tv8jFHmXpPLNZrsAuJPcbtqBYzudYywAX2H2+Fauz82tA99kLUv9thKzdajQDZFxHXC5k/EGKhYeC97hdleTHe2KbjITXtx+rwtHzvHorv+YHPz2vz2eXA5XOY++g5Xs4bgI9iP/mvAHIDdbgk1OhwRh7/EoeLjwEOHGf8nifYXkR9m9XuEEZucwzkpAPldjGVW6QAACAASURBVAqBvfEekm/d/4a9qKjuhSe9nhPZaoU8yerlWGpvbME1MN61OUCBzFRH89drwS4w9zyoyKnMsPJjgBsC7I4sfiYJERkAXkcCrHi5iBwPnKiq/xkY8jlVfbszZzCkkxuoHshp59kGyFvA60PCktvDx5SutQ1Qw2CCACgaPH4A1RHbgFlME8WqUhu24cLj68IrWWVU2WWUDDYHY8qrwiFSvW3IbEzXvzM8d6GKuUYUqmou8sVpNRfZ4rTtZRSqai60hemYZp/RT2oqptFn8RSG54/qatYiRQ3HCKj6HlhWJJ4ZInTmLhL2fsWnSjos6MoHBxnfp0gaFj4p/fcWEmRfWwOlqnZzPOeY3EDNQ054p43Sqz3RNgBLbrLfRI+KaHqpY4C8bhbORu3A8c54h1ZmyW0OyGKn7UFt+J4RQqzFgBUidL68BzNf6JYVBguIRomRCkmzbHfUtYxbsyDmtTULnoGRzG3XzfMvcCFuz0N88GAxUMeq6nNF5PkAqjqVFv+aIiLnkxi3MRKI+mOAC1T1O9a43EDNQ269yEbpnXOM3XH3zvNsrqLaMidMtdy2YKWKDTSojdtvm4zZj0VUtZ/HUSNKLTGMHRVe6ZJFysOyZ5CMfRWy8s2Z4925s167x4KRaXoyrbAL3e7C4erDqaPKfgHMpVB3IaUmIv2kv5iIHIu7KwTgJar6QRH5TWAV8GISg5UbqG7LOWtfaep1jVFlC2z6usMU4SDRinvsHJSZyAC0NP+GgdPrl1A6EDaQHkrPyyF54nHVVVfYxnf/sfa99XIV/bud/NuEz0RvSZYwWXaQQ0aQRc+5/OZ/blfvhRd7uGe6/xoeHB7U24BvARtE5FLgdBJj48nMj/9bwKdU9bpOPK/cQM1Dvrn9n0z9059xsQkZnl5uxxtGN9pvw+QRdg6qNGb/7kNb7Tehst9eZOOSnTG2yGA9hGDWxnHlUafb73VOnZNHB+TVQWUgZPVh3vapM0tWqqQMRiA7maujfzCE+LqE4uulqOp3ROQa4IkkT8z5qrq7g6HXiMh3gKOBN4vIMODuVnMD1QMpTDpkqgX7aV95gx3Cq2+230aPeLM8Pn8vpj4QmcSdzbKYi0FUh9FN4fHlUTjwcMOI9DWJ9oVPUKgKfbva66ZXwdA94ambfVA0StRUErBAUB9lb8dhhbq0mDBtBPUFe3x2rj5Hbxkor+mf07BQI8zwaVy0732zEtZr5Hw3samSuhWZW+iuvp2IiHxPVc8C/qvNZ5a8FDgFuDPtJ7WCDjwv10Cl5IAfBdao6iNF5NHAs1T1b72xv67yuJfbIAl5uIOyc5iZ605bc6/o0EsoT63MthVvODUjExvtVXrNCQELksrUePj+6a12DVhpLFzzUhqFul2jTL3f1i/oHnehFzDPgGUZ75V/KSbzm0vBaIRupQnqNrLsNQkjC//7GiIifcAASfHvMh74xUaAIzqY4opWI5Zy/10GmIatEw/qX0iKrf45nfiXIvIF4CFroK65xAZJPPINH2DknvATXx0RE2k3vVSoDxv69Q367w3/dI1+GA54CmMbYcUN4TdhcrUwtDV87VMrIpbeGV4pppYXWHpneP7qkoji98M5utpIxJoD4fPXB2LTA2z0RRQDSDdLBwmM2coRaSRmiLITfRbppBDWCi03KxL0AOMiZo2Y307eXsO1AGqlHMT+fp6XE5cwF3ix9OKEEDOGNjsTWewgiT8HXktijK7hgbsyCnwkNCirYevEQA2o6k9n5bPsGNZDXFb+ys60DzgeULEEfQYp6NBWO5ZjNRwc3mK/B+VR20Mbudf+6Qd32vq+ffZWdWC7fe9qwyWqS8Ir1f7jBGs/LbG9mgxuNdVUDOMJUDKKmCVWyNhw0cpxeSweXi8tl+nBbbZoqt0QoQslN+qw3FYcnt66Ng/82C2i80XsQanqB4EPisj/VdUPzWHovAzbjHRioHanUMIZWOEfkVC05xKQA8dkawnht7e29XtOtk8wvMmgvAbGNltcfMLQ5l62Rc8Gl7LYwMHO4YCfDJ9e4aAIm969MQyYc20uStxtGGjrPfGeS8/AZWqnkfHavXtnMakfNul9R4/MoqofEpEncWg/qM8Gjp+vYQM6M1CvAi4BHiYiW4G7gD+d64keStJwaFFKNlesSyXk7eJD4b0Zmbx5mamPjrbPP/Yo+23u22yv8habAySMDCGxQAodibfI97rcZQGjOJkNWMZrd0EUGaDe3qYtM8qv12zmD5I6KBH5HHAscC0PZAWVlvby7WSuhm1GXAOVtvQ9O+VLilTV6SaUy/Xvt3NUZ5/xTlPvMWZPrbQNQH3QftCHt9ir/NB9BqVMASwvpzEQ0ctYxYFjnDDTo+waseZdNkpi5E6H785pFeJ5QZHXDsTKo3gQ/R7vwL06q8jj8nONiJ2jsoAOngER59xZvdduyIMBxQecCjxCdW5VW/M1bJ2g+JYCLyK1fDO5KFXtWR/6xS7nbDjf1Merl5r6AtAYtt2syTVhI7TvxMh8oUrjSQO4dlKchELN4HObVhMoUGxAYTp88v6dTTPgL/XYpAOShpr6kdttvVwhQQMvjZjYaFYl6i/CZqK/1zRKXui3JDZMvRAGcWgkLsuFxUShkbggCtMIiPgGzswT+RDD0OWrkG1P1S3H58FhoH4FrGXuaZ55GbZOQnzfAH4MXM+DIkrae6kfvdr0curDXsm+cwKx2z6sucb+GbxQTWnM6bl0j917TJ2WF7WVhpdSjKgtnf/98ZgYSqPhbbaWIgrVbA0JPe82NvQS22SwqJrnd/stdVLoaxzjGWe3p5LjxWQpj3Dn9hoOOrlFtx1H/4PDehwGWQncKCI/5eCGhc9yxs3LsHVioPpUtZOmUw8ZGTvKLpbxQjFea4Ciw3buFeJ6PY08Jou4tNLUVw0Do5FN9zOxxn7kJmyaQqorHBTdmP3b9O+w5y+POf2sHCqkLGGaxdzRtrPxtt5rp5FlblcyAkx6HT6FB02I723zHDcvw9aJgfqciPwZCZ16z1v8PhjEfZBEmF5mv+zTJl2f0Bi0YjWOgRqz3/ayTQVIVLfHe9+/unT+q8mAY0AGdvSW78dqVwGAU8jb64aGZq1QRgPnGoms4zPSGWWiSnI9MGdT2dfrBB8PFqqj/5nn0LfNZ1AnBqoGvAe4iAdev2CL34eC/PjztkP5pOe8j4Ed4Qe+MSCUDaiJh1QrOyE6q04oGW+/bLWh8CpYXSr0GV1pPe+wusTW14wCZYCpdU7DwpU2EW5z0n7kyzvtlcw17h5c2QJBOEN7bvwyTu96KQ5Nk/Xcxw7NkydmnRMdzH04vJtF7EGJyBjtr1AAVdURa/x8DVsnBup1wHEdEgLeLyKygQShsZYkd3VJSre+HPgyCehiM/AcVd0nIg8joV9/LHCRqr43nefE9PgZOQZ4q6r+Q5tzPhP4IAkO4eOqenH6+SdIknQC3Aqcp6oOJfj8pTRuP+39u508iJMLKO+atOd32NCbA/Yi3LfTYHIYLqEGo3h1JDKvf2BHbIZAh7eYl0bh503z/FGtYAIBrFUg0dsxPA/gYRloUR9qbdUSRU2l6cxv5aGsHFgnDQutHJLEauqjpp1jkqa9ufHmT5gqwvNr0SSSMO8rQFzuPZ35Yg7xqaqzdbRlloErkzR1m/AMWycG6gbAXhHbSwN4var+PGWuvUZErgDOA76nqheLyAXABcCbgL3Aa4Dfa51EVW8hIRlERArAVuCrs0+W6j4CPIOky+PPRORrqnoj8JeqOpoe937g1cDF8/hOHcnOx9kGoDhh6wd32F7CjlPtOqbqcvtJ799uv4wDOx1GgqpRp1SHgpMD83J0lsQVO8RnNeWD7Eg50wspS/aWEibdj/Pd3BCdcW19kjFHJZlCdOCRxToGpJOOutb4ha6Dgq55UCLySeB3gJ2q+sj0s7cBfwbMEGFeqKrfSHVvJiFzbQKvUdVvd+dKHpDZBk5Efg84zRvXiYFqAteKyPc5OAdlwsxVdRspYkNVx0TkJuBI4NnAmelhnwGuBN6kqjuBnSLy28a0ZwF3qOrdbXSnAbendVuIyJfSc93YYpyEJIvQ071K0THnXi3MxBp7ISpO2OML0/bL7CV8p5eHx1eXgbVKe1RB3oteGfVACrZ+/Aj73o0dY3/5vl32+H6b5xZxwrORQXXkFiE7T621cYAOEv3O/BajN2QDWTRLYnKIeMbNBZBkNVCHoR9UF1elTwMf5tAaow/MRKZmREQeATwPOImEjui7InKCqmYIqPqiqv+eOiimdGKg/j39m7eIyCaSFr8/IWFFnzFc20Rk9Rymeh7wxYDuSODeln9vAZ7Qcg2fImmWdSPw+sB1vhx4OcDGjRuDF/GMJ9k8ueVH2sWgDSfRHjVhYr2xkB1jW6jqfhszO7DZfhsL4VIhihP2QlcbIRNbw+QqMVvei5NILjnGe/kvHSoip0zDMyJZ8iTJ+Z0DjOvrdb8o18B53qdxb4pNzYRS9GiWXC4+5975rfWyiRh1WnMVVf1BuuZ2Is8GvqSqVeAuEbmdZLP/v925mkRE5A9a/hmRpFzcb9wJk8RnMlwXIjIEXA68VlVHO2iiGJqnDDwLeHPokDaf3X8DVPXFaRjwQ8BzSfJdBx+segkJrROnnnpq8OYV90/C3jCb6+q7nJ3kSruQNx6sJKY8NN4J9cR99ipZ2mun36prbAM7epRdVGIhFC3wCPg0TuX9toUojdogCbcQ1wujOQuh70WE5/fmdsOH3rVlbIjocu15640ZvrSLjD0PyJOsPIaHJT/UOYpvpYhc3fLvS9K1y5NXi8iLgKtJ0i/7SDb2P245Zkv6WVBEZA3w+PSfP02jX578bsv/N0jwB8/2BgV/dhG5TFWfIyLXc+ijo6p6sje5iJRIjNOlqvqV9OMdIrIu9Z7WAZ18OYBzgJ+r6o507g3A11Pdx4DrgA0tx68H7pt10U0R+TJJ+5BDDFSnMvqI5cDyoH7kRhuBLzXbgETYi6xMOC3bS87bXLXH9+0NQ9V02TCrtofHyrRTKASokXDWchE1QB67HjfM4Pbw/Rs9uhxcSKOGUjS8Qy98WD7QoDgVPrfUY3AYt6VprYSOd+etXw3sjr6x2kgBw4VJmjVapQ+2AfOKlCVWe3wHBsLyftVxz6zcoxi3DbpHJDEHI7hbVU+d4/QfBd5B8lXeAbwPeAnOxn62iMhzSFDdV6ZjPyQib1DVf7NOrqovnuP1ArYHNcPncxPJgn7/NQLv9iZO8z2fAG5S1fe3qL4GnEsCUjgX+I8Or/X5tIT3VPVeUvBEer4icLyIHE0CpHge8CfpdRyrqren//+7wM0dnrOtFCdjalbLh5NXuLVAY+EIIgD1I8NGpLjDLKJi6B6nENgho7VCbODnOjy2B2+3ao1fcqdtAIcmssXYvEWi2WfEmfrCCMJuiB/+A6x7b3lADsJQ1AGQSDbwy8w5QuKWHs6NQWdO4vbC6tqJujVRm6nTjT2AiPwLSV0rJB6TubGfJRcBj5/xmkRkFfBdwDRQIrKeJHp1Osk3vYqkXbyJ2w0aqJk8EQnE/CBQQgoJ9+R04IXA9SJybfrZhSSG6TIReSlwD/DH6ZxrSVzPESAWkdeScDeNisgACTrvz43rbYjIq4Fvk8DMP6mqN4hIBHxGREZIHrPrgL/o4PqD8j/feKOpf8IL309pPPy0FapK357w+LgscEM4jFYfcAyQwQYOft8dm3JGTDLa8mhs7oQ9FgyJoWQ0JNSByDx/dYkwvaq9rm8XHDgpHCKMpiP67wuv0nHZBklIbIMkilU1jUDB0Ud1GyxQnFbz2ShOaUrm20Y3GQd1ydiYRr8F7/dg6rY+gZkH1Uhsw9w1chCQBgxd1Dm3OlRJ3ajh7WIOqp3MRK3Sf/4+CfUQJA7DF1J08xHA8cBPjamiWSG9PfgNjSGJWH2BdL0n6YjxKZJ1PShWiO8vgFcCx4jIL1tUw8D/865GVa8ivO84pM2vqm4nsd7t5poEbLchOe4bJNyBrZ/FJMbysInnYQxutfttTBxpoyhW3mITyk+ts1vOTy+3IUn9TtNBP57v8eXZLprJR+dw4Xkw8ZUmSKLp53FcpodseSJrpx4XxGwVGhfsZy8uSTCMGZecbrxlm0y2WbFh5nHRgbEX7TooF4WXUe/C0DPmwDqS7sHMv0iClF4pIluAvwbOFJFT0rNsJt3sp5v4y0jAYw3gVQ6C71si8m0eiGY9l1lrbkBWqWprWuXTqRNiinXbvwB8E/h7klqlGRl7KNMcdSI/uqwtSPB+OWeT3Y5jeNqsXWP6iCFTf+Bo+20aO9be8lV22yi/kbscA2Rw8ZUPNGgYhcJR3Q7RSd2psTK1oEVnFWhkAxrERhExgFrG20kyeS0jXJCDByP3kHAeBsJBOFpROI38+jpz7ox1UosBZt4tvj9VfX6bjz9hHP9OwO4B9MCxbxCRPyTZ9AsJQOOQutQ2sltE/pQHDNvzSbwvU6wQ3wHgQDpRLnOQp/z+e0194zfaOor3i0cX1HDCZAMGEwRAv8MJUjVAhqUJNXfCUV1p9FshPq/iscT0svBKu+8UZxXstw3c0PU2BL/k8ItkrVXyciVZapWyItU8ydwJ2i3UnX8dVWYPy2s3fzg8qAeJqOrlJOC3uchLSGqzPkDyFP8o/cyU/Lb3QAa22MU406s8xlEYPzK8kO8/0ckxWUSzwMht9krhMUkUp+yVzkPDiQOiqOwPG5mld2Rc4B2EpLcT9yRrCNBsh+F5SBlh5K536HpwzvkzhIbjgpg1Zm7DwYxs5U71QXdkEVMdzUhaz/QuYDWJByXQERffPSRlQnOS3ED1QL79s7829edstEOv9U2rWHZLOKax6mcOzNwRC8YNINXwueOBMnEl/NhE1QbjR4XrqIrTMdVlBsw8EsoWSMKBO5fGGxQm219/c6BEYSrsAnXSC8o0QP+/vS+Ps6yqzv3WOecONXRVddPVI93MMkgUEcE8niiiTzAGYwaf5MUoatSXGDXxvTi+mKcZcB6eiT7ikJhHHOIUzA8HUBSNQ2gQRGiGBoFu6Lmrqmu6dYez3h/nFhbN3d+6dfc9dava/f1+/Oh7191nuHXPXnut/a1vRWJP8swoQll4Ar6HFddS3jOq4XZiUUNZHW02gZObz2jkZHyDE2SiulIl+cKsokYi88K0ojZIyDuTiuqq1vbipFIR42QGqBElutjvccyQM0mii3g3gF9X1e2LGSQi/4iMtTfefL0awPtUlUZRwUH1ADNP5E2P+u53FwEDQGMVj8CSPXy8WU6zgRcST5zIGxbOjdBZHIMPs2la6Uq6/yEenTLnGk3PQYvun7wA3F5teDc0FFOrjxAFYoGQ6FQjw54Ide4+KUCNxNARBCeAFITaLeaqy/nMgzmguWFO8KgO8RSg1eywbawMB7V3sc6piSfMOycAaAqEP8kaFBxUD9C/w+CYTHExv9jYTJ89latHza41Wk6QCAYABnbzHetVu9xPWnEPZyCaMDVrjI1+i4RBmGxAGyxCYzfdJ4UYeXTzBYDUyPGZe1iee1x0D6lgSVz5pXYtiaxloSSxjB3UAqmibU2xg6/g0dqsX2o58BeIRGR1U70Cza4Wpv8JDqoH+Nr2v6H2i5/wNmq3Jtm+HZwFUd7NI6C07P5ZNPoLdJVfNdrdV1etxvQGPonPLkad8QhYYq6lCaNIuWKwBHs8idCWEp4dcS2Sgt30zyD38J+dF9POV63cbBmfc8NCQfdYfDlhoVTRDID/suC1ArAc1PsA/EBEvtD8/AvRBnMwOKge4MLnvIvaGycMU/vMKJ9pZtbxiaKyzpqk+fg+Q5yKqbnHc0qVLOIaUCJNAa0Ix1wJG+MtpXlTLcGUPCBD22gFwhykqaZg3FtcNaJHT00fWt/m6TytTsh1XhpoOiirjYs3lvkeVKdSRQvGf1pEbgJwIbKn4DebrZAogoPqAcr3j1F7dSOvg1p7P2/rqkkEqbYmA2gxQWPQ/TSqALPr3fbpDREGdru9wP6zI2y6wZ0CPHxCAUMPuokKjaJg4EGyz6RK95m0XHTatVTgY0sFICUEjUJMHZzGQsVmRdWukyJpOmusyeKzmvJ51EFZztNybpIaLEMBdf6sjQkAJLP8Alj5gEaGnR55EVjGDmoeiyU7iMjNqno2kBUFI+sv6PzMkQgOqheY4UoSY6evp/byIb7cY5IwgL1SKx52L7VX7eSDR29OURt0L4elAUxu5j+7Xc92swDL62YAuO8/uok3/rRSgCZF3lcV2yPCs6jU1iTtTYE3zKlFYzftjCBinNuTIm9S6LulCEtPsgTn8MdiyQ6nH6FEdCQEgDNlFBxUL1AqAhU3N3X9tQ+jsdY90Y6dPkj19uIqV63u3+M+d5pEXFkrBYoHSQ6v0aBq68MAQFpOQBXrryezUcxbykOqbqKEKqXYS0Pp/ps0lLf+VtB29AAnMlgRlqSKBjt+zOWIIG4nkKmJk7GGWjnAHVAWIXXuRER5W3ZNuBPxclCWFl+XsJxTfAuwWLJDO7qtzqVXcFA9wMSTN1C79TAVZoxVvrGSnjqWR2BMyaI4maI64k5BTq+3NWEmT+DXV1/vpnOVHjCaMe6mZlMyJ0+lh3aQ5yTl1c4e7fSjMsbnaPdt2W5de9eo5PQiluAc/lgU2cHR/bxtBAfVAZ5y+fupvWFs2BaNvQAb/Jc8a5AorFQRc4D1vggTJxo0943uExQPxYiq7vFDP1fgLvdytThpqFgYKhW+sOV8Oo8SfPXkLKJB/sfvfLyVwrMciHltvnZLw9EXuuxZfAAeITtsA/BMLILs0CmCg+oAN37qT6n9rD/+ALVXVgumN/FzNPrcD0TfXj4TsFYegN2OIzLYXKO3GrVE29j41GTCsX0gk6nm24/JZNIZHspbjshDDd0zAvLRwmtnvK8D9FI7t2jmhj02SBZdwTKOoETkmar67ebLWVX9yALbb7ZRB9URgoPKARu/udf+EEF9LVcrj6d5u4raGq40UWdN9wDEc+6lXKMUUXtaNPZgikK7m84arUAOPZ6aoZtJy1wApTv4d9NPugUDtnP3LShlsCIUe7yfA/LWAvSIYnIXg/VMEXYDy3wP6r0A5pl2X1zwbwB4G+w6qI4QHFQHsAppdYhPgrMb+1GccG+GVIcLqK5yzwbTGwbow1w+pJgdbT1Z9O1Xqh1WmE7pKl3qSu3JTJ2mwQoTKVLiIItjVaSEyDD0gBpptMggAri/d0mVTrJZYzvDzr67htX2nBMB4jk+HjCIBqnS74Z9r9KwSRBsNpFUafRpNSyMasY+kIJHkCnc0W1qp27ZubuWmlveDkoc/271umsIDqoD/Px3jN6JbfXNcX/1Zs2Icfy5YUHkCLLmhgU1GqDFSD03hFlXWQBIOMueFvraJAduN+E73reYlRXyWhGIuT/GrFwLr53j8yjGaFgIvs/k3XCwwP+wacmw9+W8QaRY7g5KHf9u9bprCA6qA6zfxmdgS+nBWnExYUvAVk+2JoK61VqAHL8+qBjYxa+POcCZk2u04UXcx79bNWSaygeMGjCrn5MBsy2DVatEHGw8x31ERBQ42jl37hOghwMz98esPSRDRsmSYbLt+SpJCJZ9iu9EEbka2aXO/xvN1yfkddLgoBy4+67deNbT/7qlrQhgdtSd1C6Np5g4gXuJKhcMp3JC/fv4TJTMGEw3Uy7I70mhex3brJV4TAVf1fIw1j5I3lRrj2JUoJ19GvLdeLDo2hnvT6Lws7Pr8z62VR2xBByJZe6gnr/g30d2ZOUdWj0QHJQD0kiRjLXONclsFYWH3WNrG4epg2E9iQAgmuIb/Y0RLixWH+TLzcI4D8HGT+dqDAysbTdgTxS1AT5LHjbWarXN/N7ifXy3fPBBPhMl/E+Tb5RiKkH42fM+PnMCfunDLpAgrDqo8hJ4jy6dQkQ+CeB5APap6pnN996DTPC1CuBeAJer6riIHA9gO4C7msN/pKqvfsylqX63O1e3OAQH5cApZ2zG17f9ZUvbeS9+PwokSul/iLfLqA/wp0X6+J8lqvq1jJhb6yZxVNbEmFnrni2qq4G5Uff5pSZ0JbhqR4SYpLn69zVoGm1wtyKZdB+gNlxAwUFAqQ0XkEy5GZDVkQSFKfe9zQ1ze3U4RmHaffHVIcO+KqL2uaEIhWn3lzs3EtE6sczeenx1lSAh9W+1AaHnrq4Smnqu9/PUdK0ftN1GWoRzXxUA6gN8b7PRB8SOxUWjzLX26n1KU8Npt5xX93zgPyBrr/7pBe9dC+DNqloXkXcBeDOANzZt96rqWV07excRHFQHmB0VzMK9HBw/kUcga+62N0KmNrr/NJPH8bHWhvDAw4Za+SFSg3UIiO7sXHgzo0wRaywgXy0aRUGt383iSBOgSsRwq6t4LqfWz8OAej9/ZOp9xvEtez/rNgzUSVfZNAHqRHVbY676zTrWApmTYrAUw2tuicVsPLG3QwNn+1BpUen1pSVjc7Hf2uDzRBfVzFX1hmZktPC9by54+SMAv92ds+WL4KAcuP3hvTj9f7UuuK1uUqqObMmiPLzOlgNiszgr4gWA0gE+yU5t5eNZEXF234xmTg9t9DzPwCaqqM4noqgK1Ada318yLaiOkHbxk4LqavcFFg5HqK51e99kPEHtGHd0l0wkaBzjDgPkcAKscdv1cAHFUXeYUJ0uYmDEbZ+ZKmH0mNYNI/cfXIXjN7r7iD10aASnrnfnrR8YX40nrnPnve8ZH8V56+532u+Y2IDz197nHj+9Dr86fK/TXtME6wsTTntZqhhwsH+m0xJ+peSuXSxAcWzi/lFGiNiaqn2076DWNtUc5nGlql65iDO9DMDnFrw+QUR+AuAwgLep6vesA4jIgKry9tZdQHBQDjx+03pse+eftLQ95WXvB/s1rf32Tn7wfl4nZXVtnTme94uqGltI/Xs4V9uqtSkc5uOTce6lnkzMiAAAIABJREFUmGArANp2vWGkP9OS51RhdlZls4gVGTeMGq4a0oRdfwpN3N452wNyT6QjBQGwpqVtE4BKwb0yOQbA/ti9AdgP4O6IM39+kIxS+1eTrdS+PT7DactT5w9oRyyWq8u0g0XUUx1Q1XM6OofIW5H9UK9qvrUbwFZVPSgiTwbwFRF5vKq27OkjIv8JwMcBDALYKiJPBPAqVf3DTq7HQnBQHeDGT/If48Vn/Tm1s55EACAGD3xgB+8nNXUBnwgOnslDvPoqfv6+3fxp7dvnniQTg0Rhtbsw22GYNHC/hoO9ZFqZUkKGb7ao1JaOYMMiIniw/Ja7UsRSiMXm/dsSkZcgI09cpJqttFR1Ds3W7ap6k4jcC+BxALY5DvMBAM8BcHVzzK0ickFe1xwcVA6Y3cJDGKYWANgPujXJlg/xWXqQNBw0oQALM6Y3JJQNVi8LnWzmRoSm8KonVXjjuj0l1Eda7xck4zEKk0SpoWJ0rG3wiTKqZZvxLiSzQJ3ZZ7i9NM5rzApTvK16UnHbkwo/d2EGqJJzl8aBKumz2b9PMb3e/d3371NMb3Tb+w4AM6RNWvkgMLfabS9OuPfIkhm+PxbPGWlno3i8LeRcqCsiFyMjRTxdVWcWvD8K4JCqNkTkRACnAHDnWgGo6k55dClIbht0wUHlACsF1r/zkHmMdI17Njh8CneA1UGeIkz2GnVSVW5PZtyprOJ4Fcm4IRVhCa6yOigj/alEyggA7XibjfcUc2W9rmCnT2lbdFOM1a9Gy0ztThkF5KS0AgD6DrJuxECZPBZpgdsbJb7/mSZuFmCa8IVJWuQ0eCuybBvdo5l/BsAzkO1V7QLwdmSsvRKAa5vOZZ5OfgGAd4hIHZmjebWqsglqZzPNpyJSBPBaZDT1XBAcVA647rtvofZnXnQFtVtV64ziDgClcb6giYwUImuqV10Vozrk/tn0753D9EnuvYjSoSp2P9W9VB96MMXuC9xPavFQjBJRa+87pM52Itkk6P5u0kRQmCYU+rpStXKpcR3DuNKAkj2maK5B99CimToaRMcwnutcDV3qipR0YrZ0AkX9C31To6UF7bhr1jl5KlUQJ9QNLb5uKkmo6mUt3v6E47NfRCb+2i5eDeBDADYD2AXgmwD+aLHX2C6Cg8oBzxn4fWovJvxrlz5Dt6VoLNms1t0lo2X8Gnc+ozgOTG1x83Vn1pdw8Ew2U/Wh0JpIBgCYPDbCpusJk84oci5McKV3E0Z0R/dpIsmcmAPM8QMZwYOt1C2Ku70HROyJ5K5W7tOOw9fBmHbPflTdgK+Cy1JAVQ8A+G9Ldb7goHJA7aluthGQqVQwWEy0iRO5gxo/1aChH+IP+/C9/PqKU9y++XskzebFkoN/vycDphSSBQ/JNt9zmytw47uzel3ZE6ixd0pyWGkitH7O7HRskluML9dyYNzsj+UvFgsAEJEPt3h7AsA2Vf3Xbp8vNwclIluQVTJvQPb3vVJVP9TsYf85AMcDuB/AC1V1TEROA/ApZH1G3qqq720e51Q8mrN/IoA/V9UPtjjnxcjCzxjAx1X1iub7VwE4B0ANwH8go0V2Y2uzJb79rTdR+yVbXkftOs1p2ut/yh3U+tiTas2oztYkNcAp9JjlWkFTT9pM7RPHG8778TzC6tvJf/KDD/H7s6SOfFmIXizDvHUEPboFW5BUafRqSTDaaTY/57oUWOZafPMoAzgNwL80X/8WgNsBvFxELlTV13fzZHlGUHUAb1DVm0VkFYCbRORaAC8F8C1VvUJE3gTgTcjYJYeQbbj9xsKDqOpdAM4CABGJATwE4MtHnqxp+1sAz0aWG71RRK5utiO+CsDvNT/6zwBeAeCj3b3dX+CCS99D7aWtnAae7B7nJzA24mdOM2jmp/M/e4mz2DGwl88WrKFheae7mBIABu/iBJKBe/m9b7reIkH42a0UYFrofLyVAjS79RrjxZgBbRIGP79r7++R8WQPy9f5mcxYTy0+H+fbNlaGgzoZwDNVtQ4AIvJRZPtQzwZwW7dPltvXrqq7kRWBQVUnRWQ7so215yNjmADAPwL4DoA3quo+APtE5NfIYS9Cphv1QAvbuQB2qOp9ACAin22e6w5VvWb+QyLyHwCO9bg1E1ad0uxWXmgL5QWPoorqiHsfqdYXod7f+oFNZhRzrWs1AQB9e4ED57kdUFSJUL3P/bOZWwusvtP9pE1uWYvymNuB1fsilA65z6+JICFEhkYpQlJpba+XY6ctGxtTBmNaEMTUHiGque0aC88VtaGETll+wlfhmrh1EpULhJjki3YCEB7l8IaJUZ23ZY/qSveporp7j0wafP/MtHcp/7dCIqjNyKrB51eaAwA2NWnqRiOgxWNJ9qCaulBPAvBjAOubzguqultE1i3iUC8C8BmHbTOAhRIOuwCcd8R1FAC8GEDLHJuIvBLAKwFg61Ze1U4xxVN0pf18ORdNGX/nNEXfATfToEy06gBg6G4+m2z4oftnYQnRRuNc/USNa7NUJirr+inLce+5BbANhbTIv/vhHcb+3bjFoHTbpaE8RWpEIGJS3DvvOCjgTkjAOykDbVDojRozFkKkBaH9rupmETK3sfSmRra9K1gZDurdAG4Rke8g+9lcAOCvRWQAwHXdPlnuDkpEBpHRGF+vqofFqoFxH6cI4FJkfP6WH2nx3pF/8r8DcINLa6qpZ3UlAJxzzjnOn8slx7eWQHoE1Sq06t7iiga5qub0abxjr7WX0LeHb5TUV/FJuniAO9hol1HwQmqNpMKdrxjpy37DAZ5wj/H7olJCbaT4rDoqItMEgLazVyM9aM5fFgHFmkitExCGIgDEFlGBfDUagTpoK0qx7Cz6AgCpG863W7VOLmgXW8fnCFX9hIhcgyxjJQDeoqrzIoz/s9vny9VBNSOWLwK4SlW/1Hx7r4hsbEZPGwEYs90juATAzaq6t3nsLQC+2rR9DMCtALYs+PyxAB5RrxSRtwMYBfCqTu9nHl+7v7WI7Dye/tx38wNY+XbPzezpLZyoUJzge0hp2f00x9NV6Ea+x1Ub4TT5iZO5vTpEFAeMIuPE6DpbGjdkpowI0dwrsZyMEQVZUQhLY/k2FLTuzaahG3bv62PHNs5tXZshZdS1YlwHulkHtQSoINu+KQM4WUROVtUb8jhRniw+QVYctl1V37/AdDWAlwC4ovn/dqmJl2FBek9Vd6JJnmieLwFwioicgIxI8SIAv9u0vQKZftRFquq9TrnoGa077c6jYDDdasP81279UEsHeK3P3Bp+/NJBHmFV17gdSH2wgLHH8eNPEyJe/246FAN7UmfPIsAuUma9ogD/WhNW5wQAkXV8tocUc6q1RrznkrWwMbsNe9ZB2Q6I08z5sanZPrdFsjBYgqwXVddglVgsAzTn0tchCwBuAfBUAD8E8Mw8zpdnBHU+sv2e20TkluZ7b0HmmD4vIi8H8CCA3wEAEdmATKBwCEAqIq8HcEYzLdiPjCXijH6ajbheA+AbyGjmn1TV25vmjwF4AMAPmynGL6nqOzq9sW99hytFPOXy91N7XOU/xNU/3A0U3H+a2oYhVEfcUc7ccOSc6NIEKB1yj60NFSgLL56tY/RmtxOoDxaw8V+JFyoWgDrr/qZAySpEJjNpJM40ndRTMwVH7ao0BSgNbgd4hCV1cJZfMaJpPDFIEinc9owkQSZ5i4AhnCJvHT+uKnVCosJTYMaqLoW4iRxKW5CZ6Fbks0IiqNcBeAoyqaQLm+VB/zuvk+XJ4vs+3D+Ji1p8fg8c7LqmuCHfmMk+dw2Aa1q8v6QFyTd+iqudX3Iqr5PSIb5HVdg3iQJJjA7UjOUgcX7FvW20wyD2YqWGdNTNUrSObaXYKhv4dzN2Cv9TMxULwI7QmFQSAMRz3G7TqUnDQV+tPc8IyKJq+6YIfYgIduqUj7eV2rndGyukUBdARVUrIgIRKanqnc1a1VwQlCRywHm/zyOo+tOJLDMy4UvWXvvA2YrSfvcTWzt9FsVS6yinOldAY8z9NJb3xCi27ASTgaWYgGwlzCaLyEiRSco3i+M5vtJe9WDDeX5Jla9Sja6m0lC6RyR1RW2QMCDrStNsUleqJiG1lH+3NaVEi6SaOq8/qrWhxUeIBFFDuVZfyvfXpKFokG7A0lDaLkRF6R5VVBNKM6cq9XXuILsWQa0AkgSAXSIyAuAryIRnx7Bgr7/bCA4qB/z40zyCevIfcJJFWsjaTriw6j6+Wiz9sA9Aa6JEEfZmNCu4ZK0wAHuTHxBMPpWrnacTbge65lZ+8Wz/ChDEFZYj4/eusdAITxOuxQcAsNJgBBbLz4yAiANoxMLPb1CxG5HYNHMWYRV4G5aUtKoH/AgYFo28UTTG0zO3j5XgoFT1Bc1//oWIXA9gGMDX8zpfcFA54Fcvex+1R8bDZrU1sNINrC8OAAzs5o8Ui97aeRprg+7rP/AkBQ64KVPR6BziEfeO9NwIZyhadOGoZtjJ/huQRTG5wRKqtYb7avFZJAvr/MZXoxFxzpHQxYFFkTfPbS3KrD9r3uk3xbInSYhIBOCnqnomAKjqd/M+Z3BQOSCpWHpuivET+BMzt9ZtG3yQn3/NncY+iUHSSKb5HpbV8Tequs+/+g57n4lXdPpJKJpSR8ZehsUCtL4b0wkYTqpBhIRNtXOTAk/NfhFSO8c3qeKMYm+N5XaT4t6tYlyC5U6SUNVURG4Vka2qasxC3UFwUDnAcj5i7HVEdU7Hth6WqU0GycFKJcXun0Vs0G1NOm4bi/SpLW7b3BZ+gmQf3+22aO7WHpsFa5LxUiw3xWCNc1t283dh2D317Cy1BwarJXtaNFh+JSOE6s+taewvsMwdVBMbAdzelIx7pGpeVS/N42TBQXWAs/74A5QVZE1SNd4Q13RA1TUpoor7Q/WhhtOellMISXNJXagkQPFQhNqQ2963W6jWX/8eoEKiw759vIX2yE1FzBGpwtI4UHV8v8VJoEZIgAWj5Xpc5ZOsneLin9EYdJJSwpQGmp1hyTzKOseajtPYpwH8oxC7nxQxWg8dSS+2hZzDmxVUqJsbpbwVgoPqALf8H0PqyMCp7+QkiWSKj08mjZbuh0lX1mpMi0EBIJnms9XATm4f3MWPP/AQt7MoR1SREI6FiqCP1CGbLETDzpwnADPKoY6gxsdbEVJsafl5dPIA/CMo00ER550m/LvX1OeLh7k/xwgmXYHqSmlY+F0ROQ7AKap6XbNG1bO/jxvBQeWAJ76WOyCjVtSs2SgYDszqnWNFcCxNpxGvGZndoCjvd08GM8fyWfSYE7gS/NiEu9svAOgeTjO0nK/lgLyZVqZgaud2Uw3dM4XnC+qgbPJn58cGJ2gAXOViydAturrIJwE8D8C+eUID6cMnyHroPRfADICXqurN5Nh/gExQew2Ak5CJdH8MLWpbu4HgoHLArR/mEdbZ/92gmRuT5Kyh/14fsEgQxiRt1fkSvdbymFASxuDDEW/a9+9rEM+57RtNB5EzV9dzoe7btoKluaxj+6bgTI1IzwjKh+hgFhEbNHRWYwUA6VT+LIkupvj+AcBHkDWMnceb0LoP3yUATmn+dx6yPnmP6gJxBP4ImVDsjwFAVe9ZZEeKRSE4qB7g5o9yB2Zp/ZmwJkEjlZBM8jxXbQ2nek8e6w6xCjOGIrbBMLQYgKUD/NptNQZrkrcaHhrjidk8t1nrk6/ShBVl+JzfV2vPtyGhRe6xju8Nhd2tut1Dqd7QbHG0EC378DXf/7SqKoAficjIvJi34/Bzqlqd70rR1EDNLfwMDqoHuGQr74pcNLTotM+wl6yntfMoQ4sJleOp97ubJQLZRCOERt53UOlKuXS4gfoA6x7nniilwduKQ5U6d2nwpnhxpYE6kXKKKw00+tyPXFJpoF5m+4dcScJSqkgTce5zaCSIKL2/qWdHYTgw8t1HNcOJWK08Uu78mV2Up08FS6MkkTOLz9WHr1Ufvc1oNpttge+KyFsA9InIswH8IX7RVaLrCA6qF+jj+yS67wC1S5lzamW10bHX0uozEJNanHgWGNzBlSKkZujVMb0+ERQPkrFWnVPDokjyazNrwGpESy+OaI1Xo2goRRh2U+cvBndgvnVOHunJzM6uzRjr29Ld0uLLO4LCohzdWhHZtuD1lc1edh2dtsV77EreBODlyNq7vwqZ9unHOzy3ieCgegAt8a+98tTHUXvfDu7AMMMdBBLjz05WutpfQmHMfXwtJlQRfG5tH6qriNjsZAMHfoV0xC0AM8e7HeyqOxPUBlvbClNAecz97EkKJEYKMrGUJhiNXIx2HbFQKSRRULuFOHWnEc0C5JTXGsVVRa3f7UAztXKm0chTiMks3yeKqzzKieru64/nALKuQNQworOuafG1faADqnrOIg/v6sO3C6SPXgvMpwT/fpHn7wjBQeWAC5/zLmov9PPlWt/9nMlWHx2i9toQX+5NbjX6RU0Yit4HOIuD7ZVIqlj1c05D3Hw9cYDmPoelicPN9vH99qgo065m7AOlXIjXAhurkfCJ1tApTGOhQsAa2eQby051EhO+OGgU3OzWNDaOjSWoUcpfzdzVh+9qAK8Rkc8iI0dMkP0nIOtq/kERuQHAZwF8Q1X9UjIEwUHlgKnN3EFE67g9TRwhQBMWkWBmHZ8kWSEtAExv5OP7iJYewLX8oppidq37/qxJynqIWU8iwKaJW6tY00F5EhFyhWcKzpclSMVgfVuJeKpY+KYIfZEV6nbHQ4nIZ5ARItaKyC4Ab4ejDx+yFN1zAexARjO/nB1bVS9vdkq/BFlD2L8TkWtV9RVdufgjEBxUDlj77Z38AyU+wc+cxD1I/z08xTdikCgsvTdKorAETY0ir5kt3PkCwPQG90w3cZLBAjxhhtr1Hn7+vr3UjNKEwSI0os/ClKdkDnFwvj2TrMWBPcl37nyjOm+jkp2fROYWicI4/7JQcehShYSqXuYwterDp8io44s5fk1EvoZsudiHLO0XHNRKwcR5LfsuPoLhG7kgXP+d+6Cr3FTumVOIVhCAudV8Kdt3gM9E1kRmNeUrHHAXSg3cO8474gLo3+m2j26zqNiWICop4kIbKT7r+CZRofMUojdF3rOQ14QRAUjDcJDEliZWL7F8I1Pv76YNdCuCyhMicjGAFwG4EBlV/eMAXpjX+YKDygHDPza0fvp5HZEVhfQ9xNvC9j3s9zQ1yB5ZVGvQrrblPTPY/1R38+OhB6p48NnufMqqBwRVssU2sFvpSj+uuCVjNBIUZt3LVIvGHVVTyqSTNvaIqJNpqOmE2DzcKAhNcaaJuFOkYlCpU6BBGxoqtTOSAtBsGsgiMOVpODX6VWlMbx0NK8XHkh7d8Csrp6PuS5HtPb1KVT2llW0EB9UBzv/t91J7/MRN1G6topMZvzRQbZBHUInR1rxGWHbmuU8cpKma8ZOKVKqpcgyQ8CwdTwWVBGwW5y0nIjuFmbskj89YI3rzUBO3zy/+aup0j8rv2N409XLe3QRXjBbfixa+FpHzAfyuqi4qTdgugoPqAP0PV5CMu2dRWscDO0Ka3UQktwEcPMNK1nPzyL3cnrCuswAKkzxFOPiAR88m00H4SQX5pujyTOGx/aVsLDXnTuAwHYz13VCZJn5sXyUJph+ZHd+wGzVoXcEKSPEBgIichYwg8UIAPwfwpbzOFRxUB7j2B2+j9nNf+n5qbxibyTHTqgMwdL8RAQ346Y7VBkmxqQCza9wzVcbgIylCg2XH0kSAfW+zx3D79HFGdJrw6+vbxR+ZAs++eovN5to4z1dn0DOCyrNflOnASp79onyhy7vlu4g8Dtne02UADiITnhVVvTDP8wYH1QGe9gKe4itb0v3WatBYic4N81lqZiM105bsAFA26oCLh922RkloR2HWKgMAF5IFL7TN7Pz4q3dwu53DsyTHOz+8t9hrzkoPdsNEa/+N2HIUkrXODdgMRNbJuGtY3hHUnQC+B+DXVXUHAIiIX9+hNhAclAN3PLjXqTre2Gp0zLVqbTz79ljpir593M7acSQV4PBZ7r3P8n0lPPG37nDab374WMwecKcoTzhpDx7+vpvlWBtSFMetWZ7YSEGpxpkUkwuNctbU0IV6H4+Q6gO8FUq9nH2/zvMXgIRsO6cxp4KL2kQH10Qf1bkTiGo8CrHGS6MNB+uzfyfIj2SwVNHNsvZP+C1kEdT1IvJ1ZESJ3LmNwUE5cMbW9djmUB1/+nPfTccWpvgejKXI7btPMr2J11n177P05Nzjy4dS3HvPaU5736oIjKM4/e+bMUyexGySctsrq43o8hgAZCK94Hm30PE/2n2c05YAmN6+mo63em0ZMoTUbilux8T5AUBMfpYZjZsMljaOb9RRsYaEAHdAVrdgM3I1uzEa9iWAeIg45w1V/TKAL4vIAIDfAPAnANaLyEcBfFlVv5nHeYODcuCue/Y4JYsiAHPD7q+uNhhjdtT9tI2fzn+IauyDDG/nS9HiYcMBDnAHSNNoIvRpL06mtJ+Ttb9mTRT9RvoRd/ID3P39x1P7GmMmWwPDS/iwAD1TdPm328jv/N7tNix5SWMPquf7P4rcW5l1A6o6DeAqAFc1myD+DjIB2eCglhLRbA3l2929yakeuQiYnviGr/Gnpb5hhNotRHNWW1jjYSditpV1ZRTH3JO0pQM4u9bO5VdG3Nc39WRjGW+g/2dWx10+PraiGOKcgTb05jxW8t4kBg8KfGb3cyI+JAlvKSOz4SG3+0KgK6JQdyFU9RCA/9v8LxcEB+XAKU/Ygq9t+3BL2zMvuoKOlQZfChV3E5YBgHjaarrHZwo7hcgnEnb95X0Vev7iRI32ixqo8u8mLUboI1HSMUb02Cgb6VFjA7AwbbQC8W0qyMy+JATLgXjQwLPjW+M710FME6HOX2NQfoqtscjtFtKlkFBcYQ5qKRAcVAf49rfeRO3PuOTdtOhu9sQ1mBtxT7RpIpgddT8RMxuAEumJlFTcgq21AcHgQ+4nvVESFKfcT3OjwFu6p4mhah0LdaAau5vqAVlDRJYG1MgdhbTTjn1uhD8SZiEta1XSRpGvuQ/DJvl2WHRMScJwnt6FuB5MvbRo3LtvIW7Roplb+6ZdQHBQj0FwUB3gKZfzOqf4GP61xpWU0qklBQYfctv793X+RCQVRXWIzxRVcc80GgF1UkfcDb035pynTjFyZEW+VC49yCmQxXF+eF+1dR9YDsAkClgnyLnOyY7w3DYzujNTfJ07IGAJlCRWyB7UUiM4qA5w46f+lNpPfUdrevo8NOFPssWWqoymiObcs0l9pAGptrZrUelGh8QKRCxEEUjsfpLSSgIpkVzMZAIlRY/RbIy07B4vVQHYZDMTuydaBebWEw+TCuY2sHs3aNwKWuirDYEk7nvP7OT8qWRdB5md/O20FkEKrcczGwCgEgPk72LZtRpDiqyhFL92CCDkd1so11GvuZ+roaFZzFRaL076y1XEkfve1w1MISHh26lD+/A+p7V9LGcWX68QHFQO2HIdF5NLDSkka7O0sqYAth4+vNXo2LuOmmn6EAAG9hhdZ2cNrUHiXIHU6BrryRemabA2wh+ro63JxLMaKhIdwVjANL/bIzGQ6Dg2JLoMe2osvDSyxpP0qBGdWWKvjaQPruKJBoAaGf8g1lKx2B04EcDn+QWY0JDia4HgoHLAdTe8ldqf8jKeIiyP8ZXUzDr+tFppqAE3OTGz73avdKtDEc3nD9/Lw7+5NUU6EdX6+QQ/dprRjHGUkxxW3W20IjnEJ4niYaPlu9WXiKmMGIrWlkxUauTorIWPNd5y4JEx3tpfY3uXqZEb9tZ5sG49byk+RXBQLRAcVA+w5tYJarfEZAuH+XKxSmq0AKA0brRsJ6v40hhQJ2rp1ZECpaGXDnKGYukgZ4sN7PYTk9XEYOm1QaSg8GHaSRssQTbJ97COKTu/YbcYjh56erl31DXUW7qCkOF7DIKDygH/+Te5Vh+O43IDVjGr1Pgv2WrXUR3mT2NlxD0TVYcEsdEFZvxCI8IzyrSG7nVPZMVJ496JDiDQBbFW33YaHk7A24GYena+Ds46vjGeafVZFHxLrdyX5WfYu4GVVge1FMjNQYnIFgCfBrAB2drgSlX9ULP6+HMAjgdwP4AXquqYiJwG4FMAzgbwVlV9b/M4pzY/P48TAfy5qn6wxTkvBvAhZBH/x1X1iub7rwHwegAnARhVVUuPwAuWWrilxWeNLxkpQKs1gDVRlEgaS2M71zGw0339lVEjCiinlMWXVAT1stse1VKn4nlhWtEgaujFyRQ1orJRnGxQpffiVIpayW0vzKSoEycQV3nTv7ia0nuXVPJVO/eFsf1HJRa1DSZfh0K97WgYasyJQ11BcFCPQZ4RVB3AG1T1ZhFZBeAmEbkWWUfGb6nqFSLyJmQyGW8EcAjAa5HpPD0CVb0LwFkAICIxgIcAfPnIkzVtfwvg2QB2AbhRRK5W1TsA/DuAf0PWojh3zBCZo3nMbuD2+qDbSRQP8eWiJRZbmDH2EkgEl8yqGQGVxt3XPvRAG0WVyj14iWdIEY93LrXEmjmmsVCliEZB6OKjXoroRFgvcwfDmy0250lGhDO+98jYYzL3uKzo1NqfYwTGhEfexk8G/r0Ac67UVQWMAv924VrUAxgB8AcA9jfff4uqXtOVk+aE3ByUqu4GsLv570kR2Q5gM4DnA3hG82P/iMxpvFFV9wHYJyK/Rg57EYB7VfWBFrZzAexQ1fsAQEQ+2zzXHar6k+Z7vrfVFkZv4Sy+eJazGCyliLRosa2sCM5QmiDDG+UYyYz7+usDPBeSTHPvVhkt0fMfPo7f+9RWo5+TsYfVv88Yf4jPhJGhlOGlxeerpeetNGH8bsxmjuzYApCfRmTMVBaLzyRoLof9ny5FUGRRfzmAD8xnp1YClmQPSkSOB/AkAD8GsL7pvKCqu0XEID0/Ci8C8BmHbTOAnQte7wJw3qIvtguY2cAscIh2AAAQpUlEQVT13oZ/xnncFknCgtW7pt5vdPQd5XYxEvLlg9yB1fvYRgvfQzvmdu4g1rg7gWSH95QqshbS9N7QLhWc2GnTvnxJDnYh7vLV4rMKea0WNnlr8WUnySXF98iifqkW6N1E7l+7iAwC+CKA16vq4U6/JBEpArgUwJtdH2nx3qL+4iLySgCvBICtW7cu6voW4geff0PHYwHgya/khb4V3vEB+E88BxZHnApeu5GfoGik2OaIYKxJw64DOMY9EzEqclvHz3ulbP3ifOYIz/nLundWAwzYaTRlhbbg5Q9pLDyF59kx11Q7N/eFud0bisXkIdeKyLYFr69U1Ssdnz1yUf8aEfl9ANuQbcEYLT57i1wdlIgUkDmnq1R1vm/9XhHZ2IyeNgIwdkwewSUAblbVvc1jbwHw1abtYwBuBbBlweePBfDwYq63+Ue+EgDOOeecjqeDCy59Dz+PsdItGw+jVSiL7QPcbgUJNfdM0TAihMQQW7UIHPVyRGuFpjbHTp1BANh/bgPRdOsvMB1oID5M2tVPCfr3uq9NGtkeHAPXKeROwiQ4tNHKgzloH7VyFdDfjUYGxV/8pJAalhYf0xlE5sCYRqPV7Td/Fp/CbJj1CxxQ1XOsD7VY1H8UwDuzk+GdAN4H4GWLv9alQ54sPgHwCQDbVXVhZerVAF4C4Irm//+1zUNehgUrAVXdiWaetXm+BMApInICspzriwD8rs89dAorzeNimS0Ea8w3ebJRy2Pojg3eY9RJcbF13pZ9dWS3lDA7Crvv3Wq2uOlbEdwzVWSkUdQshjXBCm1rvu00rPCQm/OvkzJIFh40d1+1cuuJM3sh5p0dU3SNJLEAj1rUz/8fAETk75ERx5Y18oygzgfwYgC3ich8G9O3IHNMnxeRlwN4EFnDK4jIBmRh5xCAVEReD+CMZlqwHxk771Wuk6lqvUkn/wYymvknVfX25rFfC+DPkFHefyoi16jqK7p+x0384HM8xXfuS7mSRL0sKJC+RGtuNWYS42GaM9pNMQeSJqBUaEmB2VH3+NIYULnYnSOc3bkKOui+gPIDBRSIA00qfKVs1UlFNUOxgERIGnHnrRFXajftsfAoociV4tOCOCfyvPen0sR97sxujQf9XTeK/HfbKLtTjGli7O1FdoTVFXR/D+pRi/r5zFXz5QsA/KzbJ+w28mTxfR/un9RFLT6/B1lartWxZgAc08Y5rwHwGNqkqn4YQOvmTjng6b/OU3wFo84pplp1QHUVfyIK03wl1jDoyoeeYLSEH+V7WMldbrnzeh9Qvt7dzrEAIJl1X5+VYjP3qKzozdgHsIIYxtIzj23ZG0qJCDSyBWdvSoOTHKI6n8SlzifquKo0Qopq3AnENe7ErKid7W9FNU7ikwbvB2X9ptpGFx2UY1H/bhE5C9ky536QBf9yQVCSyAEswgBgtrtYfccUHz/Cd2ynjvVLmK//IbcXZvj544p7Nojn/J5mS8rIhCdV29wHsuR8aD8peyyNkKxr94S/ikZnNqCdZoqG3ZPlZ7Y68UZ3xWJbLepV9cVdO8ESITioHPD9L/4Pr/EWycLa40qMdh1lq5bH2IepriIsu6qiQdTa25E0Y80cx08xasQM32wJ5TICBgAks35isb6iA2wfyJdk4bvP4rN4kAZ3AlHdcFK+W4eeztcbCiC023gMgoPqAc5+NaeRYzP/sxw+gQ/fcPZuat/1c7JJBGDoDqPhImnNDXA1hcqayEyJMAc59PPOWXQAzInMmyThCR8H5Nss0tpnyp0oQGBFUPYBuDnvlvFtIUgdPQbBQeWAZ13wV9S+1hB7tZQirGLU2nfWUvvJU9TDoN5Prk8EFdIxWBqKQ2e4Z8rSGDC1hRABEsXIdvf4OFIaIaYFce7B1QYiFCdJu3tCInjk+pgTUH/FbsqUUzUdmNW23XX9khrklwaPTi2tvOz43O4jJmuRKEwShiU2a7SE90f3pI6OJgQHlQOsflDnvZiz+CxYm+nWhvHMBiNCInpzAFAd5LNgPOu21sugE4k0BGNPcDuRhNQxAfPNFt2fSSrWZgM3+9DEgTZSfLTWyK6D6vTYQDvO07B7qql77VGZauQGBZ50eQYADHSLCeGAAtp+HdQvDYKD6gGG7uNafZV1XCpp/xP401ob5g/jaiMCs6jYpTGup7f6bsZTz3klak7ifnkqkwTh009q2WvxGeM9pI5sB+Qpo2SO5xdgyYd1BXk/GysQwUH1ANZEUDjMQ6ANP+arubnVRsv3NZaag/v6Mgai+2EtH0pRIySKdjC1yX199adznaWZ/VxFY/g2oxmkofRuEVAsIV5fmjt1AtYekxnBdC72mh3fYjha4zu3e/fCMqSMlqIfVNiDeiyCg+oBZjbyCKk0zh1U6SCfJdOSuw4JsPtNmW3Vj+cdC/vvdD/t/XttB9C/3/2Z6J95s8c1JsnBEpQzhlvosCcRkDkIL5JEj8Vife7dV+zVh+Le1vjcWXwaWHwtEBxUL2BMgnMj/M9SGxyg6Zy54Qj1vta2ZBaYIjq4pTH+MBfHgMJP+XKzPEZ6JhUFxUmuxkD16mKjlih291TKGs95puh8JjptY7xVZ2UoHnQ6FrBJDsyBiTW+wQVXRf0EX5nWHgA0yuqMXjXme1QaK5TsUQlrZrgYhAjqMQgOqgcY/glRJAWQjvA0lVQ4C29u0xC1r72Z74GlJaZGbmw2GwxEq9UHwOugxh7HZ+HyIX5s5jwBW4UjrliS4L4OkERQnrU61j5M3hGYTwrQ3mMy7Fb60iiuT0ltX3eg0EbORIwViOCgegAt86dJkwhSc/9YJ85cQ4kMhx4XO3Pq0RwQ1dyc2r5DiuKkexK2pISgQOmgOwVYHDM2cQAUx92TxeADwplu5iRrTdJGPycyyUqqSGl4pwCTmWooZzgaNHZRS2rJbQNgir32shDKu1BXyGeYbd7OTt2N9N/i2m380iA4qB5ASYQCZJOoltx/muHtnCjQv8tvtVcbcudipI1ajfFT+R7Y5Fb+xA/ucj+oltJDcYKvQmOjBs2WG2J7RGKw/HhLd0TixcTLm4Xnvc/jKWfEoiQzejNp6Ia9HQkUXwSa+WMQHFQOuOiZf0PttU08hVfez6MMtdINZhqO/9kjEr1ZitsAMPCwm4ZeWVvAyA73+MPHCWbWuyfKwqQ1CXO7JVUUG4Kr3pO4V/RnHLvXKToPB+VTpAvADu58g5OcgxsFoCGCegyCg8oBEyeW6MMc1RWzx5BUzamDmN7qnkh1qI6oSJzIgRI0af1jl7qgb4+h5UcKbU2pICMVE1f5ZnlpnNujBlAn9uqQOO3JHDAzyop4s7YMLsQVfm3xnKG43eBOoh01Ba90kwfLDtoGk45de+pHM9cYRmrXOLZZqGst6lgnSH7utqCLalj4S4PgoHKApFwTrl4WFCfd4+OqojzGHFwBWWOK1sgmqc7bMrCGipbKRL1fqFZf1jPJbe/fy1N0s2tjFAjHY+zx/CEvbHIPngOQ3sej2/6H3d9No2Q4d9jfX5LjHGVHd54Rkq+SBCNJeEZYZqFuxSJJ8ON3A4Ek8ViIBmpjS4jIfgAPLMGp1gI4sATnWUocbfd0tN0PcPTdU6/v5zhV5SrMBCLydWT30A4OqOrFnZ5rJSE4qB5DRLap6jm9vo5u4mi7p6PtfoCj756OtvsJyJB3fXRAQEBAQEBHCA4qICAgIGBZIjio3uPKXl9ADjja7uloux/g6Luno+1+AhD2oAICAgIClilCBBUQEBAQsCwRHFRAQEBAwLJEcFDLACLyHhG5U0R+KiJfFpGRXl9TJxCRi0XkLhHZISJv6vX1+EJEtojI9SKyXURuF5HX9fqaugERiUXkJyLyb72+lm5AREZE5AvNZ2i7iPxqr68poDsIDmp54FoAZ6rqEwDcDeDNPb6eRUNEYgB/C+ASAGcAuExEzujtVXmjDuANqno6gKcC+KOj4J4A4HUAtvf6IrqIDwH4uqqeBuCJOLru7ZcawUEtA6jqN1V1vo3ujwAc28vr6RDnAtihqvepahXAZwE8v8fX5AVV3a2qNzf/PYls4tvc26vyg4gcC+DXAHy819fSDYjIEIALAHwCAFS1qqrjvb2qgG4hOKjlh5cB+FqvL6IDbAawc8HrXVjhk/lCiMjxAJ4E4Me9vRJvfBDAnwE4WpRJTwSwH8CnmmnLj4sIF1QMWDEIDmqJICLXicjPWvz3/AWfeSuytNJVvbvSjtFKbfOoqGEQkUEAXwTwelU93Ovr6RQi8jwA+1T1pl5fSxeRADgbwEdV9UkApgGs+P3PgAxBzXyJoKrPYnYReQmA5wG4SFdmcdouAFsWvD4WwMM9upauQUQKyJzTVar6pV5fjyfOB3CpiDwXQBnAkIj8P1X9vR5flw92AdilqvOR7RcQHNRRgxBBLQOIyMUA3gjgUlUlzSSWNW4EcIqInCAiRQAvAnB1j6/JCyIiyPY2tqvq+3t9Pb5Q1Ter6rGqejyyv8+3V7hzgqruAbBTRE5tvnURgDt6eEkBXUSIoJYHPgKgBODabE7Ej1T11b29pMVBVesi8hoA3wAQA/ikqt7e48vyxfkAXgzgNhG5pfneW1T1mh5eU8Bj8ccArmoujO4DcHmPryegSwhSRwEBAQEByxIhxRcQEBAQsCwRHFRAQEBAwLJEcFABAQEBAcsSwUEFBAQEBCxLBAcVEBAQELAsERxUQEBAQMCyRHBQAcsaItIQkVua7S5uFZE/FZGoaXuGiEw07fP/PeuIcT8TkX8Rkc0LPrNHRB5a8LooIlNHnPelIvIRxzX9hoj8efPffyEiKiInL7D/SfO9c5qvrxOR1cb9bVrEd/I0EblDRH7W7piAgJWIUKgbsNwxq6pnAYCIrAPwzwCGAby9af+eqj7PGHcVgP+64PVfAJhS1ffOf7hZIN0u/gzApQte34ZMmeEvm69/G49WM/gnAH8I4K/YdbYLVf1eU67oqOjnFBDgQoigAlYMVHUfgFcCeI0szqN8D8DJ5qfagIg8DsCcqh5Y8PZX0GwtIiInAphAprA9j6sBXNbm8adE5F0iclMz8jpXRL4jIveJyKX2EQICjh4EBxWwoqCq9yH73a5rvvW0I1J8Jy38vIgkyJoo3mYcum/hcQC8w/G58wHcfMR7h5HpwZ2JzBF97ohrHgNQEpFjrPsDMADgO6r6ZACTyKKyZwN4AbmmgICjEiHFF7ASsTB6cqX4+hbo530PzYZ2BI9KtYnISwGc0+JzG/Ho6Ggen0WW5nsOMsHSI/Xg9gHYBOCgcR1VAF9v/vs2ZNFaTURuA3C8MTYg4KhCcFABKwrNFFoD2YR/Ovnoovd22sQssj2wI/FVAO8BsE1VD7fIQJabYy3UFrRbSQHMAYCqps1oMCDglwbhBx+wYiAiowA+BuAjqqqLJDZ0C9sBPKZFharOisgbAdx9pK25X7YBwP25X11AwFGE4KACljvmU3UFZN2G/wnAwt5MT1uQygOAv1TVL+R4PTcAeJ+IyJGNJVX1s44xT0bWQqWe43UFBBx1CO02AgIWCRH5EICvqup1i/j81ar6rRa2KVUd7OAajgfwb6p65mLHBgSsFAQWX0DA4vHXAPoX8fmftXJOTRzupFAX2Z7XAeuzAQErGSGCCggICAhYlggRVEBAQEDAskRwUAEBAQEByxLBQQUEBAQELEsEBxUQEBAQsCzx/wEO6cHCFcAPUwAAAABJRU5ErkJggg==\n",
      "text/plain": [
       "<Figure size 432x288 with 2 Axes>"
      ]
     },
     "metadata": {
      "needs_background": "light"
     },
     "output_type": "display_data"
    }
   ],
   "source": [
    "dsnew['AGC_1202'].plot()"
   ]
  },
  {
   "cell_type": "code",
   "execution_count": 45,
   "metadata": {},
   "outputs": [],
   "source": [
    "s = newfileroot.split('.')  \n",
    "newfileroot = s[0]+'-trms.'+s[1]"
   ]
  },
  {
   "cell_type": "code",
   "execution_count": 46,
   "metadata": {},
   "outputs": [
    {
     "name": "stderr",
     "output_type": "stream",
     "text": [
      "C:\\Users\\mmartini\\AppData\\Local\\Continuum\\Miniconda3\\envs\\IOOS3A\\lib\\site-packages\\dask\\local.py:253: RuntimeWarning: invalid value encountered in less\n",
      "  return func(*args2)\n"
     ]
    }
   ],
   "source": [
    "dsnew.to_netcdf(datapath+newfileroot,encoding=nonan_encoding)"
   ]
  },
  {
   "cell_type": "code",
   "execution_count": 47,
   "metadata": {},
   "outputs": [
    {
     "name": "stdout",
     "output_type": "stream",
     "text": [
      "E:\\data\\Sandwich\\10811_V20784\\python\\10811whVcurrents00repo-fixt-avg-trmt-trms.nc\n"
     ]
    }
   ],
   "source": [
    "ds.close()\n",
    "dsnew.close()\n",
    "print(datapath+newfileroot)"
   ]
  },
  {
   "cell_type": "markdown",
   "metadata": {},
   "source": [
    "# Fix up metadata"
   ]
  },
  {
   "cell_type": "markdown",
   "metadata": {},
   "source": [
    "touch up various metadata issues per: https://cmgsoft.repositoryhosting.com/trac/cmgsoft_m-cmg/wiki/preBBVcheck%20"
   ]
  },
  {
   "cell_type": "code",
   "execution_count": 48,
   "metadata": {},
   "outputs": [
    {
     "name": "stdout",
     "output_type": "stream",
     "text": [
      "E:\\data\\Sandwich\\10811_V20784\\python\\10811whVcurrents00repo-fixt-avg-trmt-trms.nc\n"
     ]
    }
   ],
   "source": [
    "ds = xr.open_dataset(datapath+newfileroot,chunks={'time':24})\n",
    "print(datapath+newfileroot)"
   ]
  },
  {
   "cell_type": "code",
   "execution_count": 49,
   "metadata": {},
   "outputs": [],
   "source": [
    "dsnew = ds"
   ]
  },
  {
   "cell_type": "markdown",
   "metadata": {},
   "source": [
    "use the user supplied dictionary to update metadata"
   ]
  },
  {
   "cell_type": "code",
   "execution_count": 50,
   "metadata": {},
   "outputs": [],
   "source": [
    "for att in atts_to_update.items():\n",
    "    dsnew.attrs[att[0]] = att[1]"
   ]
  },
  {
   "cell_type": "markdown",
   "metadata": {},
   "source": [
    "These are things checked by BBV_meta_check.m"
   ]
  },
  {
   "cell_type": "code",
   "execution_count": 51,
   "metadata": {},
   "outputs": [],
   "source": [
    "gatts = dsnew.attrs"
   ]
  },
  {
   "cell_type": "code",
   "execution_count": 52,
   "metadata": {},
   "outputs": [
    {
     "name": "stdout",
     "output_type": "stream",
     "text": [
      "lat att 41.7694167 and lat var 41.7694167\n",
      "lon att -70.4767583 and lon var -70.4767583\n"
     ]
    }
   ],
   "source": [
    "print('lat att {} and lat var {}'.format(gatts['latitude'],ds['lat'][0].values))\n",
    "if gatts['latitude'] != ds['lat'][0].values:\n",
    "    print('\\t *** latitude mismatch')\n",
    "print('lon att {} and lon var {}'.format(gatts['longitude'],ds['lon'][0].values))\n",
    "if gatts['longitude'] != ds['lon'][0].values:\n",
    "    print('\\t *** longitude mismatch')"
   ]
  },
  {
   "cell_type": "code",
   "execution_count": 53,
   "metadata": {},
   "outputs": [
    {
     "name": "stdout",
     "output_type": "stream",
     "text": [
      "VAR_FILL is 1e+35\n"
     ]
    }
   ],
   "source": [
    "if 'VAR_FILL' not in gatts.keys():\n",
    "    print('VAR_FILL missing, being inserted as 1E35')\n",
    "    dsnew.attrs['VAR_FILL'] = 1e35\n",
    "else:\n",
    "    print('VAR_FILL is {}'.format(gatts['VAR_FILL']))"
   ]
  },
  {
   "cell_type": "code",
   "execution_count": 54,
   "metadata": {},
   "outputs": [
    {
     "name": "stdout",
     "output_type": "stream",
     "text": [
      "history is Data clipped using P_1Data clipped using good_dates of ['2016-12-17 13:30', '2017-05-21 12:15'] . ; time gaps filledtranslated to netCDF by TRDIpd0tonetcdf.pyrotations calculated and converted to EPIC format by ADCPcdf2ncEPIC.py; converted to bursts by reshapeEPIC.py; distributing time using redistributeSamples.py; averaged over the sample dimension; recompute depth information\n"
     ]
    }
   ],
   "source": [
    "print('history is {}'.format(gatts['history']))"
   ]
  },
  {
   "cell_type": "code",
   "execution_count": 55,
   "metadata": {},
   "outputs": [
    {
     "name": "stdout",
     "output_type": "stream",
     "text": [
      "serial_number is 20784\n"
     ]
    }
   ],
   "source": [
    "att = 'serial_number'\n",
    "if att not in gatts.keys():\n",
    "    print('{} missing'.format(att))\n",
    "else:\n",
    "    print('{} is {}'.format(att,gatts[att]))"
   ]
  },
  {
   "cell_type": "code",
   "execution_count": 56,
   "metadata": {},
   "outputs": [
    {
     "name": "stdout",
     "output_type": "stream",
     "text": [
      "\tserial_number added to Rec\n",
      "\tserial_number added to time\n",
      "\tserial_number added to depth\n",
      "\tserial_number added to lat\n",
      "\tserial_number added to lon\n",
      "\tserial_number added to u_1205\n",
      "\tserial_number added to v_1206\n",
      "\tserial_number added to w_1204\n",
      "\tserial_number added to Werr_1201\n",
      "\tserial_number added to Wvert\n"
     ]
    }
   ],
   "source": [
    "# check that all the variables have the serial number, as all are attached to this ADCP\n",
    "varlist = dsnew.variables.keys()\n",
    "\n",
    "for var in varlist:\n",
    "    attlist = dsnew[var].attrs\n",
    "    if 'serial_number' not in attlist:\n",
    "        print('\\tserial_number added to {}'.format(var))\n",
    "        dsnew[var].attrs['serial_number'] = dsnew.attrs['serial_number']        "
   ]
  },
  {
   "cell_type": "code",
   "execution_count": 57,
   "metadata": {},
   "outputs": [
    {
     "name": "stdout",
     "output_type": "stream",
     "text": [
      "Mooring 1081.0 is not a string\n",
      "MOORING is 1081 type <class 'str'>\n"
     ]
    }
   ],
   "source": [
    "if type(ds.attrs['MOORING']) != 'str':\n",
    "    print('Mooring {} is not a string'.format(dsnew.attrs['MOORING']))\n",
    "    dsnew.attrs['MOORING'] = str(int(dsnew.attrs['MOORING']))\n",
    "    print('MOORING is {} type {}'.format(dsnew.attrs['MOORING'],type(dsnew.attrs['MOORING'])))"
   ]
  },
  {
   "cell_type": "code",
   "execution_count": 58,
   "metadata": {},
   "outputs": [],
   "source": [
    "dsnew = stglib.utils.add_min_max(dsnew)"
   ]
  },
  {
   "cell_type": "code",
   "execution_count": 59,
   "metadata": {},
   "outputs": [],
   "source": [
    "# update water_depth information based on trimmed pressure\n",
    "dsnew = stglib.utils.create_water_depth(dsnew)\n",
    "# we don't know if we need a wter_depth variable, this is already in the global WATER_DEPTH\n",
    "#dsnew = stglib.utils.create_water_depth_var(dsnew)"
   ]
  },
  {
   "cell_type": "markdown",
   "metadata": {},
   "source": [
    "all done, do some checking"
   ]
  },
  {
   "cell_type": "code",
   "execution_count": 60,
   "metadata": {},
   "outputs": [
    {
     "data": {
      "text/plain": [
       "OrderedDict([('SciPi', 'C. R. Sherwood'),\n",
       "             ('PROJECT', 'USGS Coastal Marine Geology Program'),\n",
       "             ('EXPERIMENT', 'Sandwich Town Neck Beach'),\n",
       "             ('DESCRIPTION',\n",
       "              'Nanopod deployed in shallow water North of the beach'),\n",
       "             ('DATA_SUBTYPE', 'Moored'),\n",
       "             ('DATA_ORIGIN', 'USGS WHCMSC Sed Trans Group'),\n",
       "             ('COORD_SYSTEM', 'GEOGRAPHIC'),\n",
       "             ('Conventions', 'PMEL/EPIC'),\n",
       "             ('MOORING', '1081'),\n",
       "             ('latitude', 41.7694167),\n",
       "             ('longitude', -70.4767583),\n",
       "             ('position_datum', 'NAD83(2011)'),\n",
       "             ('Deployment_date', '2016-12-17 13:30'),\n",
       "             ('Recovery_date', '2017-05-21 12:15'),\n",
       "             ('DATA_CMNT', ''),\n",
       "             ('platform_type', 'Nanopod'),\n",
       "             ('DRIFTER', 0.0),\n",
       "             ('POS_CONST', 0.0),\n",
       "             ('DEPTH_CONST', 0.0),\n",
       "             ('VAR_FILL', 1e+35),\n",
       "             ('institution',\n",
       "              'United States Geological Survey, Woods Hole Coastal and Marine Science Center'),\n",
       "             ('institution_url', 'http://woodshole.er.usgs.gov'),\n",
       "             ('orientation', 'UP'),\n",
       "             ('serial_number', '20784'),\n",
       "             ('magnetic_variation_at_site', -14.78),\n",
       "             ('latitude_units', 'degree_north'),\n",
       "             ('longitude_units', 'degree_east'),\n",
       "             ('CREATION_DATE', '2018-10-11 23:30:16.062495'),\n",
       "             ('DATA_TYPE', 'ADCP'),\n",
       "             ('FILL_FLAG', 0),\n",
       "             ('COMPOSITE', 0),\n",
       "             ('INST_TYPE', 'TRDI Workhorse V'),\n",
       "             ('bin_size', 0.3),\n",
       "             ('bin_count', 52),\n",
       "             ('center_first_bin', 0.84),\n",
       "             ('blanking_distance', 0.4),\n",
       "             ('beam_angle', 25),\n",
       "             ('number_of_slant_beams', 4),\n",
       "             ('heading_bias_applied_EB', 0),\n",
       "             ('beam_pattern', 'Convex'),\n",
       "             ('transducer_offset_from_bottom', 0.91),\n",
       "             ('orientation_note', 'user provided orientation'),\n",
       "             ('depth_note',\n",
       "              'uplooking bin depths = WATER_DEPTH-transducer_offset_from_bottom-bindist'),\n",
       "             ('VAR_DESC',\n",
       "              ':Rec:EPIC_time:EPIC_time2:bindist:SV_80:Hdg_1215:Ptch_1216:Roll_1217:Tx_1211:P_1:SDP_850:cor:AGC_1202:corvert:AGCvert:u_1205:v_1206:w_1204:Werr_1201:Wvert'),\n",
       "             ('magnetic_variation_applied', -14.78),\n",
       "             ('magnetic_variation_applied_note', 'as provided by user'),\n",
       "             ('initial_instrument_height', 0.91),\n",
       "             ('DELTA_T', 900),\n",
       "             ('initial_instrument_height_note',\n",
       "              'height in meters above bottom: accurate for tripod mounted instruments'),\n",
       "             ('WATER_DEPTH', 8.786842498779297),\n",
       "             ('WATER_DEPTH_NOTE',\n",
       "              'water depth = MSL from pressure sensor, (meters), nominal'),\n",
       "             ('WATER_DEPTH_source', 'water depth = MSL from pressure sensor'),\n",
       "             ('nominal_sensor_depth', 7.8783021663918),\n",
       "             ('nominal_sensor_depth_note',\n",
       "              'inst_depth = (water_depth - inst_height); nominal depth below surface, meters'),\n",
       "             ('transform', 'EARTH'),\n",
       "             ('start_time', '2016-12-17T13:30:00.000000000'),\n",
       "             ('stop_time', '2017-05-21T12:15:00.000000000'),\n",
       "             ('history',\n",
       "              \"Data clipped using P_1Data clipped using good_dates of ['2016-12-17 13:30', '2017-05-21 12:15'] . ; time gaps filledtranslated to netCDF by TRDIpd0tonetcdf.pyrotations calculated and converted to EPIC format by ADCPcdf2ncEPIC.py; converted to bursts by reshapeEPIC.py; distributing time using redistributeSamples.py; averaged over the sample dimension; recompute depth information\"),\n",
       "             ('nominal_instrument_depth', array(7.8768425, dtype=float32)),\n",
       "             ('WATER_DEPTH_datum', 'MSL')])"
      ]
     },
     "execution_count": 60,
     "metadata": {},
     "output_type": "execute_result"
    }
   ],
   "source": [
    "dsnew.attrs"
   ]
  },
  {
   "cell_type": "code",
   "execution_count": 61,
   "metadata": {},
   "outputs": [
    {
     "data": {
      "text/plain": [
       "<xarray.DataArray 'P_1' (time: 14876, lat: 1, lon: 1)>\n",
       "dask.array<shape=(14876, 1, 1), dtype=float32, chunksize=(24, 1, 1)>\n",
       "Coordinates:\n",
       "  * time     (time) datetime64[ns] 2016-12-17T13:30:00 ... 2017-05-21T12:15:00\n",
       "  * lat      (lat) float64 41.77\n",
       "  * lon      (lon) float64 -70.48\n",
       "Attributes:\n",
       "    units:                       dbar\n",
       "    name:                        P_1\n",
       "    long_name:                   PRESSURE (DB)\n",
       "    epic_code:                   1\n",
       "    serial_number:               20784\n",
       "    sensor_type:                 TRDI Workhorse V\n",
       "    sensor_depth:                7.8783021663918\n",
       "    initial_sensor_height:       0.91\n",
       "    initial_sensor_height_note:  height in meters above bottom:  accurate for...\n",
       "    height_depth_units:          m\n",
       "    minimum:                     5.65426\n",
       "    maximum:                     9.951346"
      ]
     },
     "execution_count": 61,
     "metadata": {},
     "output_type": "execute_result"
    }
   ],
   "source": [
    "dsnew['P_1']"
   ]
  },
  {
   "cell_type": "code",
   "execution_count": 62,
   "metadata": {},
   "outputs": [
    {
     "data": {
      "text/plain": [
       "[<matplotlib.lines.Line2D at 0xeb19a90>]"
      ]
     },
     "execution_count": 62,
     "metadata": {},
     "output_type": "execute_result"
    },
    {
     "data": {
      "image/png": "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\n",
      "text/plain": [
       "<Figure size 432x288 with 1 Axes>"
      ]
     },
     "metadata": {
      "needs_background": "light"
     },
     "output_type": "display_data"
    }
   ],
   "source": [
    "#if len(dsnew['P_1'].shape) > 1:\n",
    "    \n",
    "dsnew['P_1'][:,0,0].plot()\n"
   ]
  },
  {
   "cell_type": "code",
   "execution_count": 63,
   "metadata": {},
   "outputs": [],
   "source": [
    "# and finally check the encoding one more time\n",
    "dsnew, nonan_encoding = check_FillValue_encoding(dsnew)"
   ]
  },
  {
   "cell_type": "code",
   "execution_count": 64,
   "metadata": {},
   "outputs": [],
   "source": [
    "s = newfileroot.split('.')  \n",
    "newfileroot = s[0]+'-met.'+s[1]\n",
    "dsnew.to_netcdf(datapath+newfileroot, encoding=nonan_encoding)"
   ]
  },
  {
   "cell_type": "code",
   "execution_count": 65,
   "metadata": {},
   "outputs": [
    {
     "name": "stdout",
     "output_type": "stream",
     "text": [
      "E:\\data\\Sandwich\\10811_V20784\\python\\10811whVcurrents00repo-fixt-avg-trmt-trms-met.nc\n"
     ]
    }
   ],
   "source": [
    "ds.close()\n",
    "dsnew.close()\n",
    "print(datapath+newfileroot)"
   ]
  },
  {
   "cell_type": "markdown",
   "metadata": {},
   "source": [
    "# restore EPIC time coordinates"
   ]
  },
  {
   "cell_type": "markdown",
   "metadata": {},
   "source": [
    "Ellyn's methodology using stglib"
   ]
  },
  {
   "cell_type": "code",
   "execution_count": 66,
   "metadata": {},
   "outputs": [
    {
     "data": {
      "text/plain": [
       "Frozen(SortedKeysDict({'time': 14876, 'depth': 34, 'lat': 1, 'lon': 1}))"
      ]
     },
     "execution_count": 66,
     "metadata": {},
     "output_type": "execute_result"
    }
   ],
   "source": [
    "ds = xr.open_dataset(datapath+newfileroot, autoclose=True)\n",
    "ds.dims"
   ]
  },
  {
   "cell_type": "code",
   "execution_count": 67,
   "metadata": {},
   "outputs": [],
   "source": [
    "dsnew = stglib.utils.create_epic_times(ds)"
   ]
  },
  {
   "cell_type": "code",
   "execution_count": 68,
   "metadata": {},
   "outputs": [],
   "source": [
    "dsnew = stglib.utils.rename_time(dsnew)"
   ]
  },
  {
   "cell_type": "code",
   "execution_count": 69,
   "metadata": {},
   "outputs": [],
   "source": [
    "dsnew = stglib.utils.ds_coord_no_fillvalue(dsnew)"
   ]
  },
  {
   "cell_type": "code",
   "execution_count": 70,
   "metadata": {},
   "outputs": [
    {
     "name": "stderr",
     "output_type": "stream",
     "text": [
      "C:\\Users\\mmartini\\AppData\\Local\\Continuum\\Miniconda3\\envs\\IOOS3A\\lib\\site-packages\\ipykernel\\__main__.py:1: SerializationWarning: saving variable time_cf with floating point data as an integer dtype without any _FillValue to use for NaNs\n",
      "  if __name__ == '__main__':\n"
     ]
    }
   ],
   "source": [
    "dsnew.to_netcdf(finalfile)"
   ]
  },
  {
   "cell_type": "code",
   "execution_count": 71,
   "metadata": {},
   "outputs": [
    {
     "name": "stdout",
     "output_type": "stream",
     "text": [
      "10811whV-cal.nc\n"
     ]
    }
   ],
   "source": [
    "ds.close()\n",
    "dsnew.close()\n",
    "print(finalfile)"
   ]
  },
  {
   "cell_type": "markdown",
   "metadata": {},
   "source": [
    "Have to add the metadata for time and time2 without using xarray"
   ]
  },
  {
   "cell_type": "code",
   "execution_count": 72,
   "metadata": {},
   "outputs": [
    {
     "name": "stdout",
     "output_type": "stream",
     "text": [
      "{'epic_code': 624, 'units': 'True Julian Day', 'type': 'EVEN'}\n",
      "{'epic_code': 624, 'units': 'msec since 0:00 GMT', 'type': 'EVEN'}\n"
     ]
    }
   ],
   "source": [
    "# add time metadata to the encoding\n",
    "t1atts = {}\n",
    "t1atts['epic_code'] = 624\n",
    "t1atts['units'] = 'True Julian Day'\n",
    "t1atts['type'] = 'EVEN'\n",
    "t2atts = {}\n",
    "t2atts['epic_code'] = 624\n",
    "t2atts['units'] = 'msec since 0:00 GMT'\n",
    "t2atts['type'] = 'EVEN'\n",
    "print(t1atts)\n",
    "print(t2atts)"
   ]
  },
  {
   "cell_type": "code",
   "execution_count": 73,
   "metadata": {},
   "outputs": [],
   "source": [
    "df= nc.Dataset(finalfile,mode=\"r+\", format=\"NETCDF4\")"
   ]
  },
  {
   "cell_type": "code",
   "execution_count": 74,
   "metadata": {},
   "outputs": [
    {
     "data": {
      "text/plain": [
       "<class 'netCDF4._netCDF4.Variable'>\n",
       "int32 time(time)\n",
       "unlimited dimensions: \n",
       "current shape = (14876,)\n",
       "filling on, default _FillValue of -2147483647 used"
      ]
     },
     "execution_count": 74,
     "metadata": {},
     "output_type": "execute_result"
    }
   ],
   "source": [
    "df['time']"
   ]
  },
  {
   "cell_type": "code",
   "execution_count": 75,
   "metadata": {},
   "outputs": [],
   "source": [
    "df['time'].setncatts(t1atts)\n",
    "df['time2'].setncatts(t2atts)"
   ]
  },
  {
   "cell_type": "code",
   "execution_count": 76,
   "metadata": {},
   "outputs": [
    {
     "data": {
      "text/plain": [
       "<class 'netCDF4._netCDF4.Variable'>\n",
       "int32 time(time)\n",
       "    epic_code: 624\n",
       "    units: True Julian Day\n",
       "    type: EVEN\n",
       "unlimited dimensions: \n",
       "current shape = (14876,)\n",
       "filling on, default _FillValue of -2147483647 used"
      ]
     },
     "execution_count": 76,
     "metadata": {},
     "output_type": "execute_result"
    }
   ],
   "source": [
    "df['time']"
   ]
  },
  {
   "cell_type": "code",
   "execution_count": 77,
   "metadata": {},
   "outputs": [],
   "source": [
    "df.close()"
   ]
  },
  {
   "cell_type": "markdown",
   "metadata": {},
   "source": [
    "# We are done!!"
   ]
  },
  {
   "cell_type": "code",
   "execution_count": null,
   "metadata": {},
   "outputs": [],
   "source": []
  }
 ],
 "metadata": {
  "_draft": {
   "nbviewer_url": "https://gist.github.com/b1bee28c24446b390fc82c379c8ee9bb"
  },
  "gist": {
   "data": {
    "description": "workflow finalizing EPIC current profile data from workhorse V",
    "public": true
   },
   "id": "b1bee28c24446b390fc82c379c8ee9bb"
  },
  "kernelspec": {
   "display_name": "Python [conda env:IOOS3A]",
   "language": "python",
   "name": "conda-env-IOOS3A-py"
  },
  "language_info": {
   "codemirror_mode": {
    "name": "ipython",
    "version": 3
   },
   "file_extension": ".py",
   "mimetype": "text/x-python",
   "name": "python",
   "nbconvert_exporter": "python",
   "pygments_lexer": "ipython3",
   "version": "3.6.6"
  }
 },
 "nbformat": 4,
 "nbformat_minor": 2
}
